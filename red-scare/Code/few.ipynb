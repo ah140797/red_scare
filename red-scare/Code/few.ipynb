{
 "cells": [
  {
   "cell_type": "markdown",
   "metadata": {},
   "source": [
    "### Abstract"
   ]
  },
  {
   "cell_type": "code",
   "execution_count": 7,
   "metadata": {},
   "outputs": [],
   "source": [
    "### Red Scare\n",
    "\n",
    "### Abstract:\n",
    "\n",
    "#   -Input: A graph G with vertex set V(G) and edge set E(G); the graph can be directed or undirected; \n",
    "#               - no multiple edges between any pair of vertices and unweighted;  \n",
    "#               - every graph comes with two specified vertices s, t ∈ V(G) called start and end vertices and a subset R ⊆ V(G) of red vertices; R can include s and t;\n",
    "#               - an s,t-path is a sequence of DISTINCT vertices v1, ... vl such that v1 = s, vl = t and (vi, vi+1) ∈ E(G) for all i = 1, ..., l − 1 := AKA simple path;\n",
    "\n",
    "#           Every input file is of the form: \tn m r\n",
    "#\t                                            s t\n",
    "#\t                                            <vertices>\n",
    "#\t                                            <edges>        # with n vertices, m edges and r cardinality of R(how many red vertices are there)\n",
    "#                                                              # each vertex name is a string from [_a-z0-9]+\n",
    "#                                                              # the names of vertices in R are followed by *; Ex.: 7 *       \n",
    "#                                                              # edges of the form : u -- v for undirected edge , u --> v for directed arc \n",
    "\n",
    "\n",
    "\n",
    "#    Sub-tasks we want to solve for each problem:\n",
    "\n",
    "#             - None: Return 1 if the length of a shorthest path internally avoiding R(red vertices) exists, -1 otherwise; * if the edge (s, t) exists then length(path(s,t)) = 2;\n",
    "\n",
    "#             - Some: Return True if there is a path from s to t that includes at least one vertex from R\n",
    "\n",
    "#             - Many: Return the maximum number of red vertices on any path from s to t; if no path return -1\n",
    "\n",
    "#             - Few: Return minimum number of red vertices on any path from s to t; if no path, return -1\n",
    "\n",
    "#             - Alternate: Return true if there is a path from s to t that alternates between red and non-red vertices, false otherwise\n",
    "\n",
    "\n",
    "\n",
    "#    Requirements:\n",
    "\n",
    "#            - Hint: For 3, we should be able to handle all instances; 2 roughly 50% of instances;\n",
    "#            - The algorithms should run in polynomial time; if no polynom and > 1h report;\n",
    "#            - Hint to tackle: For 2, not able to write one algo that works for all graphs; for 1 of these 2 should be able to argue for computational hardness with a simple reduction; mistify 2\n",
    "#            - Universality: the algo must run in polynomial time on a well-defined class of graphs:\n",
    "#                            - Well-defined classes:  * all graphs, * directed graphs, * undirected graphs, * bipartite graphs,\n",
    "#                                                     * acyclic graphs, * graphs of bounded treewidth, * planar graphs, * expanders, * combination of these;\n",
    "#            - Allowed:  if(isBipartite(G)) then\n",
    "#                             # run the Strumpf-Chosa algorithm\n",
    "#                        else print('!') # problem is NP-hard for non-bipartite graph\n",
    "#            - Not allowed:  if (filename == 'rusty-I-17\") then print(14) solved by hand\n",
    "\n",
    "\n",
    "#            Libraries:\n",
    "\n",
    "#            - Focus is on choosing between algorithms, not implementing them; not required to write them from scratch;\n",
    "#            - Allowed: implementation can be either reusing code, built-in, books, external;\n",
    "\n",
    "\n",
    "#     Deliverables:\n",
    "\n",
    "#            1. A report; follow the skeleton in doc/report.pdf.\n",
    "#            2. A text file results.txt with all the results, as specified in report.\n",
    "#            3. Scripts, ReadME file that explains how to recreate results.txt by running your programs.\n",
    "\n",
    "\n"
   ]
  },
  {
   "cell_type": "code",
   "execution_count": 1,
   "metadata": {},
   "outputs": [],
   "source": [
    "\n",
    "#     Steps:\n",
    "\n",
    "\n",
    "#          Keywords, concepts, tests: - * We have to build the graphs for all the instances/files;\n",
    "#                                     - * Graph tests: the algorithm must run on defined classes of graphs, ex.directed, undirected, bipartite; graph is connected, so maybe specify this;\n",
    "#                                     - The tests should tell us what kind of algorithm should we use for that specific graph, without knowing the type of the graph; blind graph;\n",
    "#                                     - For some problems, the red vertices appear randomly, for others they are fixed; different rules for checking if the vertex is red; colloring the vertex red as we build the graphs vs build and then check for red vertices while searching for paths;\n",
    "#                                     -  Remember that for each subtask we check if there is a path from s to t, s and t can be red;\n",
    "#                                     - * A path from s to t has distinct vertices, the path starts at s ends at t; the number of edges tells us the type of graph each problem might respond to tests; Ex.: If #edges == 3 then problem is Individual graphs,  if #edges == N^2 then problem is Grids;\n",
    "#                                     - Object implementation vs functional implementation; \n",
    "\n",
    "\n",
    "#          Problems:\n",
    "\n",
    "#                     1. Individual Graphs:\n",
    "#                                           * Small graph, 3 vertices and an-all red dodechaderon; good to test parser\n",
    "#                                           * T: Can be directed or undirected, no tree;\n",
    "#                     2. Word Graphs\n",
    "#                                           * Each vertex represents a 5-letter word; \n",
    "#                                           * An edge (u,v) if the corresponding words are anagrams or differ in exactly k positions, k € { 1, 2};\n",
    "#                                           * T: has distinctive name for the vertices;\n",
    "#                     3. Grids\n",
    "#                                           * Consists of N^2 vertices \n",
    "#                                           * Each vertex (x, y) is connected to (x-1, y), (x, y-1), (x-1, y-1) if they exist;\n",
    "#                                           * Every second row is red, except for the top- or bottom-most vertex, alternatingly;\n",
    "#                                           * T: consists of exactly N^2 edges, can be both directed and indirected;\n",
    "#                     4. Walls\n",
    "#                                           * Family consisting of N overlapping 8-cycles called bricks; the bricks are laid in a wall of height 2 with various intervals of overlap;\n",
    "#                                           * Each wall has a single red vertex w, the rightmost vertex of the same vertex as vertex 0;\n",
    "#                                           * T: Contains cycles of length 8 with just one red vertex, can be both directed and undirected; \n",
    "#                     5. Sky\n",
    "#                                           * Tree, in each level move down either one step left either right; \n",
    "#                                           * \"Get from the start to the goal, avoiding the trees\" --> avoid red vertices but maybe also avoid using a tree\n",
    "#                                           * T: Directed, no cycles;\n",
    "#                     6. Increasing numbers\n",
    "#                                           * Each Increasing graph is generated from a sequence idx_1, .. idx_n of unique ints with 0 < val_i < 2n;\n",
    "#                                           * The random process: Pick a subset of size n from {1, ..., 2n} and arrange them randomly;\n",
    "#                                           * s = val_1, t = val_n; Odd numbers are red; Edge (val_i, val_i+1) if idx_i < idx_j and val_i < val_j;\n",
    "\n",
    "#          Algorithms:\n",
    "#                      * Maximum independent set \n",
    "#                      * Spanning tree, BFS, DFS, Prim, Dijsktra\n",
    "#                      * Greedy\n",
    "#                      * Divide and conquer --> Grids \n",
    "#                      * Dynamic programming, backtragking\n",
    "#                      * Network flow\n",
    "#                      * Np-hardness\n",
    "\n",
    "#          Tests:\n",
    "#                      * Number of edges, vertices, ratio vertices/edges --> Individual graphs, Grid, Tree;\n",
    "#                         - as you check graphs and gather info on ratio, collect it and update along for each type of problem, do majority voting for tests; outlier detection to establish range for edges/vertices ratio;\n",
    "#                      * Complete graph  --> Individual graphs\n",
    "#                      * Tree  --> Sky\n",
    "#                      * Dense graph --> Grids\n",
    "#                      * Sparse graph --> Increasing numbers\n",
    "#                      * Based on input format, we color the red vertices - 5 * is a red vertex; source and target are set and can be red so check them; also check if the graph is directed or undirected; also if name is string or int;\n",
    "#\n",
    "\n",
    "#             Majority voting of the tests: - if 3/5 | 2/3 tests say that the graph is a tree, then we assume that the graph is a tree; \n",
    "#                      - connected graph --> all problems\n",
    "#                      - directed vs undirected --> all problems - if directed, then sky and incresing numbers but no grid nor individual graphs\n",
    "#                      - number of edges --> all problems  - if #edges = 3 -> Individual graphs, if #edges = N^2 -> Grids\n",
    "#                      - check if there are 8 non-overlapping cycles --> Walls\n"
   ]
  },
  {
   "cell_type": "markdown",
   "metadata": {},
   "source": [
    "### Read the files"
   ]
  },
  {
   "cell_type": "code",
   "execution_count": 14,
   "metadata": {},
   "outputs": [
    {
     "name": "stderr",
     "output_type": "stream",
     "text": [
      "  5%|▍         | 7/155 [00:00<00:04, 33.34it/s]"
     ]
    },
    {
     "name": "stdout",
     "output_type": "stream",
     "text": [
      "../data/rusty-2-2000.txt\n",
      "../data/wall-p-3.txt\n",
      "../data/ski-level20-3.txt\n",
      "../data/gnm-1000-2000-1.txt\n",
      "../data/gnm-3000-6000-0.txt\n",
      "../data/dodecahedron.txt\n",
      "../data/common-2-2500.txt\n"
     ]
    },
    {
     "name": "stderr",
     "output_type": "stream",
     "text": [
      "  9%|▉         | 14/155 [00:00<00:02, 47.96it/s]"
     ]
    },
    {
     "name": "stdout",
     "output_type": "stream",
     "text": [
      "../data/wall-n-1000.txt\n",
      "../data/gnm-3000-6000-1.txt\n",
      "../data/gnm-1000-2000-0.txt\n",
      "../data/ski-level20-2.txt\n",
      "../data/wall-p-2.txt\n",
      "../data/common-1-5000.txt\n",
      "../data/common-1-1500.txt\n",
      "../data/ski-level20-1.txt\n",
      "../data/wall-p-1.txt\n",
      "../data/grid-25-0.txt\n",
      "../data/common-1-3500.txt\n",
      "../data/gnm-5000-7500-1.txt\n",
      "../data/wall-z-1000.txt\n",
      "../data/smallworld-20-1.txt\n",
      "../data/increase-n20-1.txt\n",
      "../data/smallworld-20-0.txt\n"
     ]
    },
    {
     "name": "stderr",
     "output_type": "stream",
     "text": [
      " 15%|█▍        | 23/155 [00:00<00:02, 62.70it/s]"
     ]
    },
    {
     "name": "stdout",
     "output_type": "stream",
     "text": [
      "../data/rusty-1-3000.txt\n",
      "../data/gnm-5000-7500-0.txt\n",
      "../data/wall-p-4.txt\n",
      "../data/grid-25-1.txt\n",
      "../data/common-2-20.txt\n",
      "../data/gnm-2000-3000-1.txt\n",
      "../data/wall-p-1000.txt\n",
      "../data/gnm-4000-6000-1.txt\n",
      "../data/rusty-2-4500.txt\n"
     ]
    },
    {
     "name": "stderr",
     "output_type": "stream",
     "text": [
      " 21%|██        | 32/155 [00:00<00:03, 39.36it/s]"
     ]
    },
    {
     "name": "stdout",
     "output_type": "stream",
     "text": [
      "../data/common-2-250.txt\n",
      "../data/gnm-10-15-0.txt\n",
      "../data/increase-n20-3.txt\n",
      "../data/wall-z-10000.txt\n"
     ]
    },
    {
     "name": "stderr",
     "output_type": "stream",
     "text": [
      " 25%|██▍       | 38/155 [00:01<00:04, 27.37it/s]"
     ]
    },
    {
     "name": "stdout",
     "output_type": "stream",
     "text": [
      "../data/increase-n20-2.txt\n",
      "../data/gnm-10-15-1.txt\n",
      "../data/gnm-4000-6000-0.txt\n",
      "../data/common-2-4000.txt\n",
      "../data/bht.txt\n"
     ]
    },
    {
     "name": "stderr",
     "output_type": "stream",
     "text": [
      " 27%|██▋       | 42/155 [00:01<00:04, 24.17it/s]"
     ]
    },
    {
     "name": "stdout",
     "output_type": "stream",
     "text": [
      "../data/grid-25-2.txt\n",
      "../data/gnm-2000-3000-0.txt\n",
      "../data/rusty-2-5757.txt\n"
     ]
    },
    {
     "name": "stderr",
     "output_type": "stream",
     "text": [
      " 30%|██▉       | 46/155 [00:01<00:05, 18.40it/s]"
     ]
    },
    {
     "name": "stdout",
     "output_type": "stream",
     "text": [
      "../data/wall-n-4.txt\n",
      "../data/common-2-50.txt\n",
      "../data/increase-n100-3.txt\n",
      "../data/gnm-3000-4500-1.txt\n",
      "../data/gnm-1000-1500-0.txt\n",
      "../data/wall-p-10000.txt\n"
     ]
    },
    {
     "name": "stderr",
     "output_type": "stream",
     "text": [
      " 32%|███▏      | 50/155 [00:02<00:06, 16.79it/s]"
     ]
    },
    {
     "name": "stdout",
     "output_type": "stream",
     "text": [
      "../data/rusty-1-3500.txt\n",
      "../data/gnm-1000-1500-1.txt\n",
      "../data/gnm-3000-4500-0.txt\n",
      "../data/common-1-3000.txt\n",
      "../data/increase-n100-2.txt\n",
      "../data/common-2-4500.txt\n"
     ]
    },
    {
     "name": "stderr",
     "output_type": "stream",
     "text": [
      " 36%|███▌      | 56/155 [00:02<00:05, 18.43it/s]"
     ]
    },
    {
     "name": "stdout",
     "output_type": "stream",
     "text": [
      "../data/gnm-2000-4000-1.txt\n",
      "../data/common-2-5757.txt\n"
     ]
    },
    {
     "name": "stderr",
     "output_type": "stream",
     "text": [
      " 38%|███▊      | 59/155 [00:02<00:07, 12.36it/s]"
     ]
    },
    {
     "name": "stdout",
     "output_type": "stream",
     "text": [
      "../data/rusty-2-4000.txt\n",
      "../data/gnm-2000-4000-0.txt\n"
     ]
    },
    {
     "name": "stderr",
     "output_type": "stream",
     "text": [
      " 43%|████▎     | 66/155 [00:03<00:05, 17.17it/s]"
     ]
    },
    {
     "name": "stdout",
     "output_type": "stream",
     "text": [
      "../data/increase-n100-1.txt\n",
      "../data/wall-n-2.txt\n",
      "../data/grid-5-0.txt\n",
      "../data/common-1-250.txt\n",
      "../data/common-2-2000.txt\n",
      "../data/rusty-2-2500.txt\n",
      "../data/grid-5-1.txt\n",
      "../data/wall-n-3.txt\n",
      "../data/wall-n-1.txt\n",
      "../data/rusty-1-5000.txt\n",
      "../data/smallworld-40-0.txt\n",
      "../data/wall-n-10000.txt\n"
     ]
    },
    {
     "name": "stderr",
     "output_type": "stream",
     "text": [
      " 51%|█████     | 79/155 [00:03<00:03, 21.86it/s]"
     ]
    },
    {
     "name": "stdout",
     "output_type": "stream",
     "text": [
      "../data/common-1-1000.txt\n",
      "../data/smallworld-40-1.txt\n",
      "../data/grid-5-2.txt\n",
      "../data/common-1-20.txt\n",
      "../data/grid-50-1.txt\n",
      "../data/increase-n500-2.txt\n",
      "../data/smallworld-10-0.txt\n",
      "../data/increase-n10-1.txt\n",
      "../data/rusty-1-4500.txt\n",
      "../data/common-1-100.txt\n",
      "../data/smallworld-10-1.txt\n",
      "../data/increase-n500-3.txt\n",
      "../data/wall-n-100.txt\n"
     ]
    },
    {
     "name": "stderr",
     "output_type": "stream",
     "text": [
      " 55%|█████▌    | 86/155 [00:03<00:02, 28.32it/s]"
     ]
    },
    {
     "name": "stdout",
     "output_type": "stream",
     "text": [
      "../data/common-1-4000.txt\n",
      "../data/grid-50-0.txt\n",
      "../data/rusty-1-5757.txt\n",
      "../data/ski-level3-1.txt\n",
      "../data/common-2-3500.txt\n"
     ]
    },
    {
     "name": "stderr",
     "output_type": "stream",
     "text": [
      " 65%|██████▌   | 101/155 [00:04<00:01, 33.63it/s]"
     ]
    },
    {
     "name": "stdout",
     "output_type": "stream",
     "text": [
      "../data/ski-level3-3.txt\n",
      "../data/ski-illustration.txt\n",
      "../data/smallworld-3-1.txt\n",
      "../data/grid-50-2.txt\n",
      "../data/increase-n500-1.txt\n",
      "../data/increase-n10-2.txt\n",
      "../data/increase-n10-3.txt\n",
      "../data/rusty-2-3000.txt\n",
      "../data/smallworld-3-0.txt\n",
      "../data/ski-level3-2.txt\n",
      "../data/wall-p-10.txt\n",
      "../data/ski-level10-2.txt\n",
      "../data/gnm-5000-10000-0.txt\n",
      "../data/common-2-1500.txt\n",
      "../data/common-2-5000.txt\n"
     ]
    },
    {
     "name": "stderr",
     "output_type": "stream",
     "text": [
      " 74%|███████▍  | 115/155 [00:04<00:01, 36.72it/s]"
     ]
    },
    {
     "name": "stdout",
     "output_type": "stream",
     "text": [
      "../data/increase-n8-3.txt\n",
      "../data/rusty-1-17.txt\n",
      "../data/increase-n8-2.txt\n",
      "../data/gnm-5000-10000-1.txt\n",
      "../data/ski-level5-1.txt\n",
      "../data/ski-level10-3.txt\n",
      "../data/rusty-1-2000.txt\n",
      "../data/common-1-500.txt\n",
      "../data/smallworld-30-0.txt\n",
      "../data/ski-level10-1.txt\n",
      "../data/ski-level5-3.txt\n",
      "../data/increase-n8-1.txt\n",
      "../data/ski-level5-2.txt\n",
      "../data/common-1-2500.txt\n",
      "../data/wall-z-100.txt\n",
      "../data/smallworld-30-1.txt\n",
      "../data/rusty-2-5000.txt\n"
     ]
    },
    {
     "name": "stderr",
     "output_type": "stream",
     "text": [
      " 87%|████████▋ | 135/155 [00:04<00:00, 48.49it/s]"
     ]
    },
    {
     "name": "stdout",
     "output_type": "stream",
     "text": [
      "../data/wall-z-1.txt\n",
      "../data/P3.txt\n",
      "../data/common-2-1000.txt\n",
      "../data/wall-z-2.txt\n",
      "../data/common-1-2000.txt\n",
      "../data/wall-z-3.txt\n",
      "../data/rusty-1-2500.txt\n",
      "../data/common-2-100.txt\n",
      "../data/common-1-4500.txt\n",
      "../data/grid-10-0.txt\n",
      "../data/common-2-500.txt\n",
      "../data/smallworld-50-1.txt\n",
      "../data/common-1-5757.txt\n",
      "../data/smallworld-50-0.txt\n",
      "../data/increase-n50-1.txt\n",
      "../data/rusty-1-4000.txt\n",
      "../data/common-1-50.txt\n",
      "../data/grid-10-1.txt\n",
      "../data/gnm-4000-8000-1.txt\n"
     ]
    },
    {
     "name": "stderr",
     "output_type": "stream",
     "text": [
      " 96%|█████████▌| 149/155 [00:05<00:00, 50.05it/s]"
     ]
    },
    {
     "name": "stdout",
     "output_type": "stream",
     "text": [
      "../data/wall-n-10.txt\n",
      "../data/wall-z-4.txt\n",
      "../data/increase-n50-3.txt\n",
      "../data/gnm-10-20-0.txt\n",
      "../data/rusty-2-3500.txt\n",
      "../data/wall-p-100.txt\n",
      "../data/increase-n50-2.txt\n",
      "../data/gnm-10-20-1.txt\n",
      "../data/G-ex.txt\n",
      "../data/common-2-3000.txt\n"
     ]
    },
    {
     "name": "stderr",
     "output_type": "stream",
     "text": [
      "100%|██████████| 155/155 [00:05<00:00, 29.27it/s]"
     ]
    },
    {
     "name": "stdout",
     "output_type": "stream",
     "text": [
      "../data/grid-10-2.txt\n",
      "../data/gnm-4000-8000-0.txt\n",
      "../data/wall-z-10.txt\n"
     ]
    },
    {
     "name": "stderr",
     "output_type": "stream",
     "text": [
      "\n"
     ]
    }
   ],
   "source": [
    "### taking the input, check for graphs of size 3\n",
    "\n",
    "import warnings\n",
    "from tqdm import tqdm\n",
    "import os\n",
    "import networkx as nx\n",
    "import pandas as pd\n",
    "\n",
    "warnings.filterwarnings('ignore')\n",
    "os.environ['TF_CPP_MIN_LOG_LEVEL'] = '3'\n",
    "\n",
    "\n",
    "PATH = \"../data/\"\n",
    "\n",
    "files_list = os.listdir(PATH)\n",
    "df = pd.DataFrame(columns=['Instance name', 'n', 'F'])\n",
    "\n",
    "###  count number of graphs in the folder\n",
    "count_graphs = 0\n",
    "\n",
    "for file in tqdm(files_list):\n",
    "    if file.endswith('.txt'):\n",
    "        full_path = os.path.join(PATH + file)\n",
    "        if os.path.isfile(full_path):\n",
    "            print(full_path)\n",
    "            with open (full_path, 'r') as f:\n",
    "                DG = nx.DiGraph()\n",
    "\n",
    "                n, m, r = map(int, f.readline().strip().split())\n",
    "                s, t = map(str, f.readline().strip().split())\n",
    "                d = {}\n",
    "\n",
    "                for i in range(n):\n",
    "                    name = f.readline().strip().split(' ')\n",
    "                    \n",
    "                    #Red\n",
    "                    if len(name) > 1:\n",
    "                        DG.add_node(name[0], color=\"red\")\n",
    "                        d[name[0]] = \"red\"\n",
    "                                \n",
    "                    #Black\n",
    "                    else:\n",
    "                        DG.add_node(name[0], color=\"black\")\n",
    "                        d[name[0]] = \"black\"\n",
    "                    \n",
    "                \n",
    "                for j in range(m):\n",
    "                    start, directed, end = f.readline().strip().split(' ')\n",
    "                    \n",
    "                    if directed == '--':\n",
    "                        if DG.nodes[start]['color'] == \"red\":\n",
    "                            if DG.nodes[end]['color'] == \"red\":\n",
    "                                DG.add_edge(start, end, weight=m)\n",
    "                                DG.add_edge(end, start, weight=m)\n",
    "                            else:\n",
    "                                DG.add_edge(start, end, weight=1)\n",
    "                                DG.add_edge(end, start, weight=m)\n",
    "                        else:\n",
    "                            if DG.nodes[end]['color'] == \"red\":\n",
    "                                DG.add_edge(start, end, weight=m)\n",
    "                                DG.add_edge(end, start, weight=1)\n",
    "                            else:\n",
    "                                DG.add_edge(start, end, weight=1)\n",
    "                                DG.add_edge(end, start, weight=1)\n",
    "                    else:\n",
    "                        if DG.nodes[end]['color'] == \"red\":\n",
    "                            DG.add_edge(start, end, weight=m)\n",
    "                        else:\n",
    "                            DG.add_edge(start, end, weight=1)\n",
    "                \n",
    "                try:\n",
    "                    few_path = nx.shortest_path(DG, s, t)\n",
    "                    count = 0\n",
    "                    for i in few_path:\n",
    "                        if d[i] == \"red\":\n",
    "                            count += 1\n",
    "                except nx.NetworkXNoPath:\n",
    "                    count = -1\n",
    "                \n",
    "                file = file.replace('.txt', '')\n",
    "                new_row = {'Instance name': file, 'n': n, 'F': count}\n",
    "                df = pd.concat([df, pd.DataFrame([new_row])], ignore_index=True)\n",
    "\n",
    "df.to_csv('few_result.csv', index=False)"
   ]
  },
  {
   "cell_type": "code",
   "execution_count": 15,
   "metadata": {},
   "outputs": [
    {
     "data": {
      "text/html": [
       "<div>\n",
       "<style scoped>\n",
       "    .dataframe tbody tr th:only-of-type {\n",
       "        vertical-align: middle;\n",
       "    }\n",
       "\n",
       "    .dataframe tbody tr th {\n",
       "        vertical-align: top;\n",
       "    }\n",
       "\n",
       "    .dataframe thead th {\n",
       "        text-align: right;\n",
       "    }\n",
       "</style>\n",
       "<table border=\"1\" class=\"dataframe\">\n",
       "  <thead>\n",
       "    <tr style=\"text-align: right;\">\n",
       "      <th></th>\n",
       "      <th>Instance name</th>\n",
       "      <th>n</th>\n",
       "      <th>F</th>\n",
       "    </tr>\n",
       "  </thead>\n",
       "  <tbody>\n",
       "    <tr>\n",
       "      <th>0</th>\n",
       "      <td>rusty-2-2000</td>\n",
       "      <td>2000</td>\n",
       "      <td>0</td>\n",
       "    </tr>\n",
       "    <tr>\n",
       "      <th>1</th>\n",
       "      <td>wall-p-3</td>\n",
       "      <td>20</td>\n",
       "      <td>0</td>\n",
       "    </tr>\n",
       "    <tr>\n",
       "      <th>2</th>\n",
       "      <td>ski-level20-3</td>\n",
       "      <td>254</td>\n",
       "      <td>-1</td>\n",
       "    </tr>\n",
       "    <tr>\n",
       "      <th>3</th>\n",
       "      <td>gnm-1000-2000-1</td>\n",
       "      <td>1000</td>\n",
       "      <td>5</td>\n",
       "    </tr>\n",
       "    <tr>\n",
       "      <th>4</th>\n",
       "      <td>gnm-3000-6000-0</td>\n",
       "      <td>3000</td>\n",
       "      <td>0</td>\n",
       "    </tr>\n",
       "    <tr>\n",
       "      <th>...</th>\n",
       "      <td>...</td>\n",
       "      <td>...</td>\n",
       "      <td>...</td>\n",
       "    </tr>\n",
       "    <tr>\n",
       "      <th>149</th>\n",
       "      <td>G-ex</td>\n",
       "      <td>8</td>\n",
       "      <td>1</td>\n",
       "    </tr>\n",
       "    <tr>\n",
       "      <th>150</th>\n",
       "      <td>common-2-3000</td>\n",
       "      <td>3000</td>\n",
       "      <td>1</td>\n",
       "    </tr>\n",
       "    <tr>\n",
       "      <th>151</th>\n",
       "      <td>grid-10-2</td>\n",
       "      <td>100</td>\n",
       "      <td>4</td>\n",
       "    </tr>\n",
       "    <tr>\n",
       "      <th>152</th>\n",
       "      <td>gnm-4000-8000-0</td>\n",
       "      <td>4000</td>\n",
       "      <td>0</td>\n",
       "    </tr>\n",
       "    <tr>\n",
       "      <th>153</th>\n",
       "      <td>wall-z-10</td>\n",
       "      <td>71</td>\n",
       "      <td>0</td>\n",
       "    </tr>\n",
       "  </tbody>\n",
       "</table>\n",
       "<p>154 rows × 3 columns</p>\n",
       "</div>"
      ],
      "text/plain": [
       "       Instance name     n   F\n",
       "0       rusty-2-2000  2000   0\n",
       "1           wall-p-3    20   0\n",
       "2      ski-level20-3   254  -1\n",
       "3    gnm-1000-2000-1  1000   5\n",
       "4    gnm-3000-6000-0  3000   0\n",
       "..               ...   ...  ..\n",
       "149             G-ex     8   1\n",
       "150    common-2-3000  3000   1\n",
       "151        grid-10-2   100   4\n",
       "152  gnm-4000-8000-0  4000   0\n",
       "153        wall-z-10    71   0\n",
       "\n",
       "[154 rows x 3 columns]"
      ]
     },
     "execution_count": 15,
     "metadata": {},
     "output_type": "execute_result"
    }
   ],
   "source": [
    "df"
   ]
  }
 ],
 "metadata": {
  "kernelspec": {
   "display_name": "CBC",
   "language": "python",
   "name": "python3"
  },
  "language_info": {
   "codemirror_mode": {
    "name": "ipython",
    "version": 3
   },
   "file_extension": ".py",
   "mimetype": "text/x-python",
   "name": "python",
   "nbconvert_exporter": "python",
   "pygments_lexer": "ipython3",
   "version": "3.9.10"
  }
 },
 "nbformat": 4,
 "nbformat_minor": 2
}
