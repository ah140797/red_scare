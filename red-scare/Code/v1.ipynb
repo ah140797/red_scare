{
 "cells": [
  {
   "cell_type": "markdown",
   "metadata": {},
   "source": [
    "### Abstract"
   ]
  },
  {
   "cell_type": "code",
   "execution_count": 7,
   "metadata": {},
   "outputs": [],
   "source": [
    "### Red Scare\n",
    "\n",
    "### Abstract:\n",
    "\n",
    "#   -Input: A graph G with vertex set V(G) and edge set E(G); the graph can be directed or undirected; \n",
    "#               - no multiple edges between any pair of vertices and unweighted;  \n",
    "#               - every graph comes with two specified vertices s, t ∈ V(G) called start and end vertices and a subset R ⊆ V(G) of red vertices; R can include s and t;\n",
    "#               - an s,t-path is a sequence of DISTINCT vertices v1, ... vl such that v1 = s, vl = t and (vi, vi+1) ∈ E(G) for all i = 1, ..., l − 1 := AKA simple path;\n",
    "\n",
    "#           Every input file is of the form: \tn m r\n",
    "#\t                                            s t\n",
    "#\t                                            <vertices>\n",
    "#\t                                            <edges>        # with n vertices, m edges and r cardinality of R(how many red vertices are there)\n",
    "#                                                              # each vertex name is a string from [_a-z0-9]+\n",
    "#                                                              # the names of vertices in R are followed by *; Ex.: 7 *       \n",
    "#                                                              # edges of the form : u -- v for undirected edge , u --> v for directed arc \n",
    "\n",
    "\n",
    "\n",
    "#    Sub-tasks we want to solve for each problem:\n",
    "\n",
    "#             - None: Return 1 if the length of a shorthest path internally avoiding R(red vertices) exists, -1 otherwise; * if the edge (s, t) exists then length(path(s,t)) = 2;\n",
    "\n",
    "#             - Some: Return True if there is a path from s to t that includes at least one vertex from R\n",
    "\n",
    "#             - Many: Return the maximum number of red vertices on any path from s to t; if no path return -1\n",
    "\n",
    "#             - Few: Return minimum number of red vertices on any path from s to t; if no path, return -1\n",
    "\n",
    "#             - Alternate: Return true if there is a path from s to t that alternates between red and non-red vertices, false otherwise\n",
    "\n",
    "\n",
    "\n",
    "#    Requirements:\n",
    "\n",
    "#            - Hint: For 3, we should be able to handle all instances; 2 roughly 50% of instances;\n",
    "#            - The algorithms should run in polynomial time; if no polynom and > 1h report;\n",
    "#            - Hint to tackle: For 2, not able to write one algo that works for all graphs; for 1 of these 2 should be able to argue for computational hardness with a simple reduction; mistify 2\n",
    "#            - Universality: the algo must run in polynomial time on a well-defined class of graphs:\n",
    "#                            - Well-defined classes:  * all graphs, * directed graphs, * undirected graphs, * bipartite graphs,\n",
    "#                                                     * acyclic graphs, * graphs of bounded treewidth, * planar graphs, * expanders, * combination of these;\n",
    "#            - Allowed:  if(isBipartite(G)) then\n",
    "#                             # run the Strumpf-Chosa algorithm\n",
    "#                        else print('!') # problem is NP-hard for non-bipartite graph\n",
    "#            - Not allowed:  if (filename == 'rusty-I-17\") then print(14) solved by hand\n",
    "\n",
    "\n",
    "#            Libraries:\n",
    "\n",
    "#            - Focus is on choosing between algorithms, not implementing them; not required to write them from scratch;\n",
    "#            - Allowed: implementation can be either reusing code, built-in, books, external;\n",
    "\n",
    "\n",
    "#     Deliverables:\n",
    "\n",
    "#            1. A report; follow the skeleton in doc/report.pdf.\n",
    "#            2. A text file results.txt with all the results, as specified in report.\n",
    "#            3. Scripts, ReadME file that explains how to recreate results.txt by running your programs.\n",
    "\n",
    "\n"
   ]
  },
  {
   "cell_type": "code",
   "execution_count": 1,
   "metadata": {},
   "outputs": [],
   "source": [
    "\n",
    "#     Steps:\n",
    "\n",
    "\n",
    "#          Keywords, concepts, tests: - * We have to build the graphs for all the instances/files;\n",
    "#                                     - * Graph tests: the algorithm must run on defined classes of graphs, ex.directed, undirected, bipartite; graph is connected, so maybe specify this;\n",
    "#                                     - The tests should tell us what kind of algorithm should we use for that specific graph, without knowing the type of the graph; blind graph;\n",
    "#                                     - For some problems, the red vertices appear randomly, for others they are fixed; different rules for checking if the vertex is red; colloring the vertex red as we build the graphs vs build and then check for red vertices while searching for paths;\n",
    "#                                     -  Remember that for each subtask we check if there is a path from s to t, s and t can be red;\n",
    "#                                     - * A path from s to t has distinct vertices, the path starts at s ends at t; the number of edges tells us the type of graph each problem might respond to tests; Ex.: If #edges == 3 then problem is Individual graphs,  if #edges == N^2 then problem is Grids;\n",
    "#                                     - Object implementation vs functional implementation; \n",
    "\n",
    "\n",
    "#          Problems:\n",
    "\n",
    "#                     1. Individual Graphs:\n",
    "#                                           * Small graph, 3 vertices and an-all red dodechaderon; good to test parser\n",
    "#                                           * T: Can be directed or undirected, no tree;\n",
    "#                     2. Word Graphs\n",
    "#                                           * Each vertex represents a 5-letter word; \n",
    "#                                           * An edge (u,v) if the corresponding words are anagrams or differ in exactly k positions, k € { 1, 2};\n",
    "#                                           * T: has distinctive name for the vertices;\n",
    "#                     3. Grids\n",
    "#                                           * Consists of N^2 vertices \n",
    "#                                           * Each vertex (x, y) is connected to (x-1, y), (x, y-1), (x-1, y-1) if they exist;\n",
    "#                                           * Every second row is red, except for the top- or bottom-most vertex, alternatingly;\n",
    "#                                           * T: consists of exactly N^2 edges, can be both directed and indirected;\n",
    "#                     4. Walls\n",
    "#                                           * Family consisting of N overlapping 8-cycles called bricks; the bricks are laid in a wall of height 2 with various intervals of overlap;\n",
    "#                                           * Each wall has a single red vertex w, the rightmost vertex of the same vertex as vertex 0;\n",
    "#                                           * T: Contains cycles of length 8 with just one red vertex, can be both directed and undirected; \n",
    "#                     5. Sky\n",
    "#                                           * Tree, in each level move down either one step left either right; \n",
    "#                                           * \"Get from the start to the goal, avoiding the trees\" --> avoid red vertices but maybe also avoid using a tree\n",
    "#                                           * T: Directed, no cycles;\n",
    "#                     6. Increasing numbers\n",
    "#                                           * Each Increasing graph is generated from a sequence idx_1, .. idx_n of unique ints with 0 < val_i < 2n;\n",
    "#                                           * The random process: Pick a subset of size n from {1, ..., 2n} and arrange them randomly;\n",
    "#                                           * s = val_1, t = val_n; Odd numbers are red; Edge (val_i, val_i+1) if idx_i < idx_j and val_i < val_j;\n",
    "\n",
    "#          Algorithms:\n",
    "#                      * Maximum independent set \n",
    "#                      * Spanning tree, BFS, DFS, Prim, Dijsktra\n",
    "#                      * Greedy\n",
    "#                      * Divide and conquer --> Grids \n",
    "#                      * Dynamic programming, backtragking\n",
    "#                      * Network flow\n",
    "#                      * Np-hardness\n",
    "\n",
    "#          Tests:\n",
    "#                      * Number of edges, vertices, ratio vertices/edges --> Individual graphs, Grid, Tree;\n",
    "#                         - as you check graphs and gather info on ratio, collect it and update along for each type of problem, do majority voting for tests; outlier detection to establish range for edges/vertices ratio;\n",
    "#                      * Complete graph  --> Individual graphs\n",
    "#                      * Tree  --> Sky\n",
    "#                      * Dense graph --> Grids\n",
    "#                      * Sparse graph --> Increasing numbers\n",
    "#                      * Based on input format, we color the red vertices - 5 * is a red vertex; source and target are set and can be red so check them; also check if the graph is directed or undirected; also if name is string or int;\n",
    "#\n",
    "\n",
    "#             Majority voting of the tests: - if 3/5 | 2/3 tests say that the graph is a tree, then we assume that the graph is a tree; \n",
    "#                      - connected graph --> all problems\n",
    "#                      - directed vs undirected --> all problems - if directed, then sky and incresing numbers but no grid nor individual graphs\n",
    "#                      - number of edges --> all problems  - if #edges = 3 -> Individual graphs, if #edges = N^2 -> Grids\n",
    "#                      - check if there are 8 non-overlapping cycles --> Walls\n"
   ]
  },
  {
   "cell_type": "markdown",
   "metadata": {},
   "source": [
    "### Read the files"
   ]
  },
  {
   "cell_type": "code",
   "execution_count": 43,
   "metadata": {},
   "outputs": [],
   "source": [
    "class Node:\n",
    "    def __init__(self, id, name, source=False, sink=False, red=False):\n",
    "        self.id = id\n",
    "        self.name = name\n",
    "        self.red = red\n",
    "        self.source = source\n",
    "        self.sink = sink\n",
    "    \n",
    "    def __str__(self):\n",
    "        return f'Name:{self.name}, Red:{self.red}'\n",
    "    \n",
    "        \n",
    "class Edge:\n",
    "    def __init__(self, start, end, directed=False):\n",
    "        self.start = start\n",
    "        self.end = end\n",
    "        self.directed = directed\n",
    "    \n",
    "    def __str__(self):\n",
    "        return f'To:{self.end} Directed:{self.directed}'\n",
    "\n",
    "\n",
    "class Graph:\n",
    "    def __init__(self):\n",
    "        self.nodes = {}  # store nodes in list\n",
    "        self.network = {}  # store\n",
    "        self.directed = None\n",
    "        self.source = None\n",
    "        self.sink = None\n",
    "        self.nrOfEdges = 0\n",
    "\n",
    "    def getNode(self, name):\n",
    "        if name not in self.nodes.keys():\n",
    "            return None\n",
    "        return self.nodes[name]\n",
    "\n",
    "    def getEdges(self):\n",
    "        allEdges = []\n",
    "        for node in self.network:\n",
    "            for edge in self.network[node]:\n",
    "                allEdges.append(edge)\n",
    "        return allEdges\n",
    "\n",
    "    def getNodes(self):\n",
    "        return self.nodes\n",
    "\n",
    "    def addNode(self, id, name, source=False, sink=False, red=False):\n",
    "        newNode = Node(id, name, source, sink, red)\n",
    "        self.nodes[newNode.name] = newNode\n",
    "        self.network[newNode.name] = []\n",
    "\n",
    "    def addEdge(self, start, end, directed=False):\n",
    "        # Create edge and residual edge\n",
    "        newEdge = Edge(start, end, directed)\n",
    "        # add edge to from_node's list of edges\n",
    "        self.network[start].append(newEdge)\n",
    "        self.nrOfEdges += 1\n",
    "\n",
    "    def __str__(self):\n",
    "        result = \"Graph Information:\\n\"\n",
    "\n",
    "        for node_name, node in self.nodes.items():\n",
    "            edges = [edge for edge in self.network[node_name]]\n",
    "            edge_info = \", \".join([f\"To:{edge.end} Directed:{edge.directed}\" for edge in edges])\n",
    "            node_info = f\"Name:{node.name}, Red:{node.red}, Source:{node.source}, Sink:{node.sink}\"\n",
    "            \n",
    "            result += f\"Node {node_name}:\\n\"\n",
    "            result += f\"{node_info}\\n\"\n",
    "            result += f\"{len(edges)} Edges: {edge_info}\\n\"\n",
    "            result += \"\\n\"\n",
    "\n",
    "        return result\n",
    "        \n",
    "             "
   ]
  },
  {
   "cell_type": "code",
   "execution_count": 45,
   "metadata": {},
   "outputs": [],
   "source": [
    "from collections import deque\n",
    "class pathFinding:\n",
    "    def __init__(self, G):\n",
    "        self.G = G\n",
    "        self.s = self.G.source\n",
    "        self.t = self.G.sink\n",
    "\n",
    "    \n",
    "    def BFS(self):\n",
    "        # Initialize a queue for BFS\n",
    "        queue = deque() # []\n",
    "        visited = set() # nodes visited ()\n",
    "        parent = {}\n",
    "\n",
    "        # Add the source node to the queue\n",
    "        queue.append(self.s) # queue = [s, ...]\n",
    "        visited.add(self.s.name) # node_object #### , mark the node as visited\n",
    "        print(f'sink : {self.t}')\n",
    "        while queue:\n",
    "            current_node = queue.popleft() # s\n",
    "           # print(f'current node : {current_node} with degree {len(self.G.network[current_node.name])}: and neighbors :{self.G.network[current_node.name]}')\n",
    "            \n",
    "            # Check if we have reached the target (sink) node\n",
    "            if current_node == self.t: # if source == target, -> path = []\n",
    "                path = self.reconstructPath(parent, current_node.name)\n",
    "                return path\n",
    "            \n",
    "            if current_node.red and current_node != self.s and current_node != self.t: # if node is red, skip it\n",
    "                continue # skip red nodes\n",
    "\n",
    "            # Explore neighbors\n",
    "            for edge in self.G.network[current_node.name]: #{s:[n_1, n_2, n_3]}\n",
    "                #print(f'Edge_i considered : {edge}')\n",
    "                # edge.start == current_node.name\n",
    "                # edge.end == n1.name, n2.name\n",
    "                neighbor = edge.end # edge : s = 0, t=1, directied = false\n",
    "                if neighbor not in visited:\n",
    "                    queue.append(self.G.getNode(neighbor))\n",
    "                    visited.add(neighbor) # name \n",
    "                    parent[neighbor] = current_node.name # {n1 : s}\n",
    "\n",
    "        # If we reach here, there is no path from source to sink\n",
    "        return None\n",
    "\n",
    "    def reconstructPath(self, parent, current_node):\n",
    "        path = [current_node] # node_t ojbect ###, \n",
    "        while current_node in parent:\n",
    "            current_node = parent[current_node]\n",
    "            path.insert(0, current_node)\n",
    "        return path"
   ]
  },
  {
   "cell_type": "code",
   "execution_count": 46,
   "metadata": {},
   "outputs": [
    {
     "name": "stderr",
     "output_type": "stream",
     "text": [
      "  0%|          | 0/155 [00:00<?, ?it/s]"
     ]
    },
    {
     "name": "stderr",
     "output_type": "stream",
     "text": [
      "  1%|          | 1/155 [00:00<00:22,  6.92it/s]"
     ]
    },
    {
     "name": "stdout",
     "output_type": "stream",
     "text": [
      "../data/bht.txt\n",
      "sink : Name:smile, Red:False\n",
      "Path Length = 6\n",
      "With Path: tears --> sears --> stars --> stare --> stale --> stile --> smile\n",
      "28270\n",
      "../data/common-1-100.txt\n",
      "sink : Name:ender, Red:True\n",
      "-1\n",
      "16\n",
      "../data/common-1-1000.txt\n",
      "sink : Name:ender, Red:True\n",
      "-1\n",
      "1118\n",
      "../data/common-1-1500.txt\n"
     ]
    },
    {
     "name": "stderr",
     "output_type": "stream",
     "text": [
      "  3%|▎         | 4/155 [00:00<00:10, 14.89it/s]"
     ]
    },
    {
     "name": "stdout",
     "output_type": "stream",
     "text": [
      "sink : Name:ender, Red:True\n",
      "-1\n",
      "2372\n",
      "../data/common-1-20.txt\n",
      "sink : Name:ender, Red:True\n",
      "-1\n",
      "0\n",
      "../data/common-1-2000.txt\n",
      "sink : Name:ender, Red:True\n",
      "-1\n",
      "4038\n",
      "../data/common-1-250.txt\n",
      "sink : Name:ender, Red:True\n",
      "-1\n",
      "78\n",
      "../data/common-1-2500.txt\n",
      "sink : Name:ender, Red:True\n",
      "Path Length = 6\n",
      "With Path: start --> stare --> aster --> alter --> alder --> elder --> ender\n",
      "6110\n",
      "../data/common-1-3000.txt\n",
      "sink : Name:ender, Red:True\n",
      "Path Length = 6\n",
      "With Path: start --> stare --> aster --> alter --> alder --> elder --> ender\n",
      "8630\n",
      "../data/common-1-3500.txt\n",
      "sink : Name:ender, Red:True\n",
      "Path Length = 6\n",
      "With Path: start --> stare --> aster --> alter --> alder --> elder --> ender\n",
      "12010\n"
     ]
    },
    {
     "name": "stderr",
     "output_type": "stream",
     "text": [
      "  6%|▋         | 10/155 [00:00<00:06, 22.92it/s]"
     ]
    },
    {
     "name": "stdout",
     "output_type": "stream",
     "text": [
      "../data/common-1-4000.txt\n",
      "sink : Name:ender, Red:True\n",
      "Path Length = 6\n",
      "With Path: start --> stare --> aster --> alter --> alder --> elder --> ender\n",
      "15536\n",
      "../data/common-1-4500.txt\n"
     ]
    },
    {
     "name": "stderr",
     "output_type": "stream",
     "text": [
      " 10%|▉         | 15/155 [00:00<00:08, 16.36it/s]"
     ]
    },
    {
     "name": "stdout",
     "output_type": "stream",
     "text": [
      "sink : Name:ender, Red:True\n",
      "Path Length = 6\n",
      "With Path: start --> stare --> aster --> alter --> alder --> elder --> ender\n",
      "19774\n",
      "../data/common-1-50.txt\n",
      "sink : Name:ender, Red:True\n",
      "-1\n",
      "2\n",
      "../data/common-1-500.txt\n",
      "sink : Name:ender, Red:True\n",
      "-1\n",
      "290\n",
      "../data/common-1-5000.txt\n",
      "sink : Name:ender, Red:True\n",
      "Path Length = 6\n",
      "With Path: start --> stare --> aster --> alter --> alder --> elder --> ender\n",
      "24190\n",
      "../data/common-1-5757.txt\n"
     ]
    },
    {
     "name": "stderr",
     "output_type": "stream",
     "text": [
      " 11%|█         | 17/155 [00:01<00:09, 14.48it/s]"
     ]
    },
    {
     "name": "stdout",
     "output_type": "stream",
     "text": [
      "sink : Name:ender, Red:True\n",
      "Path Length = 6\n",
      "With Path: start --> stare --> aster --> alter --> alder --> elder --> ender\n",
      "31890\n",
      "../data/common-2-100.txt\n",
      "sink : Name:ender, Red:True\n",
      "-1\n",
      "126\n",
      "../data/common-2-1000.txt\n",
      "sink : Name:ender, Red:True\n",
      "Path Length = 4\n",
      "With Path: start --> share --> there --> ether --> ender\n",
      "11276\n",
      "../data/common-2-1500.txt\n",
      "sink : Name:ender, Red:True\n",
      "Path Length = 4\n",
      "With Path: start --> share --> shear --> sneer --> ender\n",
      "24168\n"
     ]
    },
    {
     "name": "stderr",
     "output_type": "stream",
     "text": [
      " 14%|█▎        | 21/155 [00:01<00:10, 12.18it/s]"
     ]
    },
    {
     "name": "stdout",
     "output_type": "stream",
     "text": [
      "../data/common-2-20.txt\n",
      "sink : Name:ender, Red:True\n",
      "-1\n",
      "6\n",
      "../data/common-2-2000.txt\n",
      "sink : Name:ender, Red:True\n",
      "Path Length = 4\n",
      "With Path: start --> share --> shear --> sneer --> ender\n",
      "40956\n",
      "../data/common-2-250.txt\n",
      "sink : Name:ender, Red:True\n",
      "-1\n",
      "712\n",
      "../data/common-2-2500.txt\n"
     ]
    },
    {
     "name": "stderr",
     "output_type": "stream",
     "text": [
      " 15%|█▍        | 23/155 [00:01<00:12, 10.46it/s]"
     ]
    },
    {
     "name": "stdout",
     "output_type": "stream",
     "text": [
      "sink : Name:ender, Red:True\n",
      "Path Length = 4\n",
      "With Path: start --> stern --> steer --> ether --> ender\n",
      "62620\n",
      "../data/common-2-3000.txt\n",
      "sink : Name:ender, Red:True\n",
      "Path Length = 4\n",
      "With Path: start --> stern --> steer --> ether --> ender\n",
      "89212\n",
      "../data/common-2-3500.txt\n"
     ]
    },
    {
     "name": "stderr",
     "output_type": "stream",
     "text": [
      " 16%|█▌        | 25/155 [00:02<00:29,  4.41it/s]"
     ]
    },
    {
     "name": "stdout",
     "output_type": "stream",
     "text": [
      "sink : Name:ender, Red:True\n",
      "Path Length = 4\n",
      "With Path: start --> stern --> steel --> sneer --> ender\n",
      "122352\n",
      "../data/common-2-4000.txt\n"
     ]
    },
    {
     "name": "stderr",
     "output_type": "stream",
     "text": [
      " 17%|█▋        | 26/155 [00:03<00:46,  2.78it/s]"
     ]
    },
    {
     "name": "stdout",
     "output_type": "stream",
     "text": [
      "sink : Name:ender, Red:True\n",
      "Path Length = 4\n",
      "With Path: start --> stern --> steel --> sneer --> ender\n",
      "158248\n",
      "../data/common-2-4500.txt\n"
     ]
    },
    {
     "name": "stderr",
     "output_type": "stream",
     "text": [
      " 17%|█▋        | 27/155 [00:05<01:07,  1.90it/s]"
     ]
    },
    {
     "name": "stdout",
     "output_type": "stream",
     "text": [
      "sink : Name:ender, Red:True\n",
      "Path Length = 4\n",
      "With Path: start --> stern --> steel --> sneer --> ender\n",
      "200748\n",
      "../data/common-2-50.txt\n",
      "sink : Name:ender, Red:True\n",
      "-1\n",
      "22\n",
      "../data/common-2-500.txt\n",
      "sink : Name:ender, Red:True\n",
      "Path Length = 4\n",
      "With Path: start --> share --> shear --> sneer --> ender\n",
      "2818\n",
      "../data/common-2-5000.txt\n"
     ]
    },
    {
     "name": "stderr",
     "output_type": "stream",
     "text": [
      " 19%|█▉        | 30/155 [00:06<00:57,  2.16it/s]"
     ]
    },
    {
     "name": "stdout",
     "output_type": "stream",
     "text": [
      "sink : Name:ender, Red:True\n",
      "Path Length = 4\n",
      "With Path: start --> stern --> steel --> sneer --> ender\n",
      "246144\n",
      "../data/common-2-5757.txt\n"
     ]
    },
    {
     "name": "stderr",
     "output_type": "stream",
     "text": [
      " 20%|██        | 31/155 [00:08<01:40,  1.24it/s]"
     ]
    },
    {
     "name": "stdout",
     "output_type": "stream",
     "text": [
      "sink : Name:ender, Red:True\n",
      "Path Length = 4\n",
      "With Path: start --> stern --> steel --> sneer --> ender\n",
      "327342\n",
      "../data/dodecahedron.txt\n"
     ]
    },
    {
     "name": "stderr",
     "output_type": "stream",
     "text": [
      " 26%|██▌       | 40/155 [00:08<00:25,  4.60it/s]"
     ]
    },
    {
     "name": "stdout",
     "output_type": "stream",
     "text": [
      "sink : Name:2, Red:True\n",
      "Path Length = 1\n",
      "With Path: 1 --> 2\n",
      "60\n",
      "../data/G-ex.txt\n",
      "sink : Name:3, Red:False\n",
      "Path Length = 3\n",
      "With Path: 0 --> 1 --> 2 --> 3\n",
      "18\n",
      "../data/gnm-10-15-0.txt\n",
      "sink : Name:1, Red:False\n",
      "Path Length = 1\n",
      "With Path: 0 --> 1\n",
      "30\n",
      "../data/gnm-10-15-1.txt\n",
      "sink : Name:1, Red:False\n",
      "Path Length = 1\n",
      "With Path: 0 --> 1\n",
      "30\n",
      "../data/gnm-10-20-0.txt\n",
      "sink : Name:1, Red:False\n",
      "Path Length = 3\n",
      "With Path: 0 --> 9 --> 4 --> 1\n",
      "40\n",
      "../data/gnm-10-20-1.txt\n",
      "sink : Name:1, Red:True\n",
      "Path Length = 3\n",
      "With Path: 0 --> 9 --> 4 --> 1\n",
      "40\n",
      "../data/gnm-1000-1500-0.txt\n",
      "sink : Name:1, Red:False\n",
      "-1\n",
      "3000\n",
      "../data/gnm-1000-1500-1.txt\n",
      "sink : Name:1, Red:False\n",
      "-1\n",
      "3000\n",
      "../data/gnm-1000-2000-0.txt\n",
      "sink : Name:1, Red:False\n",
      "Path Length = 7\n",
      "With Path: 0 --> 808 --> 118 --> 89 --> 65 --> 389 --> 429 --> 1\n",
      "4000\n",
      "../data/gnm-1000-2000-1.txt\n",
      "sink : Name:1, Red:False\n",
      "-1\n",
      "4000\n",
      "../data/gnm-2000-3000-0.txt\n",
      "sink : Name:1, Red:False\n",
      "Path Length = 8\n",
      "With Path: 0 --> 964 --> 464 --> 866 --> 1151 --> 1678 --> 1567 --> 1171 --> 1\n",
      "6000\n",
      "../data/gnm-2000-3000-1.txt\n"
     ]
    },
    {
     "name": "stderr",
     "output_type": "stream",
     "text": [
      " 28%|██▊       | 43/155 [00:09<00:19,  5.85it/s]"
     ]
    },
    {
     "name": "stdout",
     "output_type": "stream",
     "text": [
      "sink : Name:1, Red:True\n",
      "-1\n",
      "6000\n",
      "../data/gnm-2000-4000-0.txt\n",
      "sink : Name:1, Red:False\n",
      "Path Length = 6\n",
      "With Path: 0 --> 285 --> 840 --> 723 --> 524 --> 706 --> 1\n",
      "8000\n",
      "../data/gnm-2000-4000-1.txt\n"
     ]
    },
    {
     "name": "stderr",
     "output_type": "stream",
     "text": [
      " 30%|██▉       | 46/155 [00:09<00:16,  6.49it/s]"
     ]
    },
    {
     "name": "stdout",
     "output_type": "stream",
     "text": [
      "sink : Name:1, Red:False\n",
      "Path Length = 5\n",
      "With Path: 0 --> 247 --> 413 --> 1734 --> 245 --> 1\n",
      "8000\n",
      "../data/gnm-3000-4500-0.txt\n",
      "sink : Name:1, Red:False\n",
      "Path Length = 10\n",
      "With Path: 0 --> 1297 --> 2532 --> 993 --> 2523 --> 970 --> 2592 --> 327 --> 190 --> 1957 --> 1\n",
      "9000\n",
      "../data/gnm-3000-4500-1.txt\n",
      "sink : Name:1, Red:False\n",
      "-1\n",
      "9000\n",
      "../data/gnm-3000-6000-0.txt\n",
      "sink : Name:1, Red:False\n",
      "Path Length = 6\n",
      "With Path: 0 --> 2856 --> 251 --> 828 --> 1091 --> 2261 --> 1\n",
      "12000\n"
     ]
    },
    {
     "name": "stderr",
     "output_type": "stream",
     "text": [
      " 31%|███       | 48/155 [00:09<00:14,  7.34it/s]"
     ]
    },
    {
     "name": "stdout",
     "output_type": "stream",
     "text": [
      "../data/gnm-3000-6000-1.txt\n",
      "sink : Name:1, Red:True\n",
      "Path Length = 6\n",
      "With Path: 0 --> 2856 --> 251 --> 828 --> 1091 --> 2261 --> 1\n",
      "12000\n",
      "../data/gnm-4000-6000-0.txt\n"
     ]
    },
    {
     "name": "stderr",
     "output_type": "stream",
     "text": [
      " 32%|███▏      | 50/155 [00:09<00:14,  7.46it/s]"
     ]
    },
    {
     "name": "stdout",
     "output_type": "stream",
     "text": [
      "sink : Name:1, Red:False\n",
      "Path Length = 7\n",
      "With Path: 0 --> 2353 --> 3430 --> 2594 --> 1172 --> 3812 --> 1006 --> 1\n",
      "12000\n",
      "../data/gnm-4000-6000-1.txt\n",
      "sink : Name:1, Red:False\n",
      "Path Length = 15\n",
      "With Path: 0 --> 3744 --> 2133 --> 3927 --> 3187 --> 3533 --> 2318 --> 1214 --> 3103 --> 3888 --> 1274 --> 2594 --> 1172 --> 3812 --> 1006 --> 1\n",
      "12000\n",
      "../data/gnm-4000-8000-0.txt\n"
     ]
    },
    {
     "name": "stderr",
     "output_type": "stream",
     "text": [
      " 34%|███▎      | 52/155 [00:10<00:13,  7.36it/s]"
     ]
    },
    {
     "name": "stdout",
     "output_type": "stream",
     "text": [
      "sink : Name:1, Red:False\n",
      "Path Length = 5\n",
      "With Path: 0 --> 3458 --> 3480 --> 1901 --> 1336 --> 1\n",
      "16000\n",
      "../data/gnm-4000-8000-1.txt\n",
      "sink : Name:1, Red:True\n",
      "Path Length = 6\n",
      "With Path: 0 --> 1724 --> 1551 --> 335 --> 1611 --> 3618 --> 1\n",
      "16000\n",
      "../data/gnm-5000-10000-0.txt\n"
     ]
    },
    {
     "name": "stderr",
     "output_type": "stream",
     "text": [
      " 35%|███▍      | 54/155 [00:10<00:14,  6.94it/s]"
     ]
    },
    {
     "name": "stdout",
     "output_type": "stream",
     "text": [
      "sink : Name:1, Red:True\n",
      "Path Length = 5\n",
      "With Path: 0 --> 599 --> 1934 --> 3189 --> 777 --> 1\n",
      "20000\n",
      "../data/gnm-5000-10000-1.txt\n"
     ]
    },
    {
     "name": "stderr",
     "output_type": "stream",
     "text": [
      " 36%|███▌      | 56/155 [00:10<00:15,  6.37it/s]"
     ]
    },
    {
     "name": "stdout",
     "output_type": "stream",
     "text": [
      "sink : Name:1, Red:False\n",
      "Path Length = 5\n",
      "With Path: 0 --> 599 --> 1934 --> 3189 --> 777 --> 1\n",
      "20000\n",
      "../data/gnm-5000-7500-0.txt\n",
      "sink : Name:1, Red:False\n",
      "-1\n",
      "15000\n",
      "../data/gnm-5000-7500-1.txt\n"
     ]
    },
    {
     "name": "stderr",
     "output_type": "stream",
     "text": [
      " 43%|████▎     | 67/155 [00:11<00:05, 17.05it/s]"
     ]
    },
    {
     "name": "stdout",
     "output_type": "stream",
     "text": [
      "sink : Name:1, Red:True\n",
      "-1\n",
      "15000\n",
      "../data/grid-10-0.txt\n",
      "sink : Name:9_9, Red:False\n",
      "Path Length = 49\n",
      "With Path: 0_0 --> 0_1 --> 0_2 --> 0_3 --> 0_4 --> 0_5 --> 0_6 --> 0_7 --> 0_8 --> 1_9 --> 2_9 --> 2_8 --> 2_7 --> 2_6 --> 2_5 --> 2_4 --> 2_3 --> 2_2 --> 2_1 --> 2_0 --> 3_0 --> 4_1 --> 4_2 --> 4_3 --> 4_4 --> 4_5 --> 4_6 --> 4_7 --> 4_8 --> 5_9 --> 6_9 --> 6_8 --> 6_7 --> 6_6 --> 6_5 --> 6_4 --> 6_3 --> 6_2 --> 6_1 --> 6_0 --> 7_0 --> 8_1 --> 8_2 --> 9_3 --> 9_4 --> 9_5 --> 9_6 --> 9_7 --> 9_8 --> 9_9\n",
      "522\n",
      "../data/grid-10-1.txt\n",
      "sink : Name:9_9, Red:False\n",
      "Path Length = 29\n",
      "With Path: 0_0 --> 0_1 --> 0_2 --> 0_3 --> 0_4 --> 0_5 --> 0_6 --> 0_7 --> 1_8 --> 2_8 --> 2_7 --> 2_6 --> 2_5 --> 3_5 --> 4_6 --> 4_7 --> 4_8 --> 5_9 --> 6_9 --> 6_8 --> 6_7 --> 6_6 --> 6_5 --> 6_4 --> 7_4 --> 8_5 --> 8_6 --> 9_7 --> 9_8 --> 9_9\n",
      "522\n",
      "../data/grid-10-2.txt\n",
      "sink : Name:9_9, Red:False\n",
      "-1\n",
      "522\n",
      "../data/grid-25-0.txt\n",
      "sink : Name:24_24, Red:False\n",
      "Path Length = 324\n",
      "With Path: 0_0 --> 0_1 --> 0_2 --> 0_3 --> 0_4 --> 0_5 --> 0_6 --> 0_7 --> 0_8 --> 0_9 --> 0_10 --> 0_11 --> 0_12 --> 0_13 --> 0_14 --> 0_15 --> 0_16 --> 0_17 --> 0_18 --> 0_19 --> 0_20 --> 0_21 --> 0_22 --> 0_23 --> 1_24 --> 2_24 --> 2_23 --> 2_22 --> 2_21 --> 2_20 --> 2_19 --> 2_18 --> 2_17 --> 2_16 --> 2_15 --> 2_14 --> 2_13 --> 2_12 --> 2_11 --> 2_10 --> 2_9 --> 2_8 --> 2_7 --> 2_6 --> 2_5 --> 2_4 --> 2_3 --> 2_2 --> 2_1 --> 2_0 --> 3_0 --> 4_1 --> 4_2 --> 4_3 --> 4_4 --> 4_5 --> 4_6 --> 4_7 --> 4_8 --> 4_9 --> 4_10 --> 4_11 --> 4_12 --> 4_13 --> 4_14 --> 4_15 --> 4_16 --> 4_17 --> 4_18 --> 4_19 --> 4_20 --> 4_21 --> 4_22 --> 4_23 --> 5_24 --> 6_24 --> 6_23 --> 6_22 --> 6_21 --> 6_20 --> 6_19 --> 6_18 --> 6_17 --> 6_16 --> 6_15 --> 6_14 --> 6_13 --> 6_12 --> 6_11 --> 6_10 --> 6_9 --> 6_8 --> 6_7 --> 6_6 --> 6_5 --> 6_4 --> 6_3 --> 6_2 --> 6_1 --> 6_0 --> 7_0 --> 8_1 --> 8_2 --> 8_3 --> 8_4 --> 8_5 --> 8_6 --> 8_7 --> 8_8 --> 8_9 --> 8_10 --> 8_11 --> 8_12 --> 8_13 --> 8_14 --> 8_15 --> 8_16 --> 8_17 --> 8_18 --> 8_19 --> 8_20 --> 8_21 --> 8_22 --> 8_23 --> 9_24 --> 10_24 --> 10_23 --> 10_22 --> 10_21 --> 10_20 --> 10_19 --> 10_18 --> 10_17 --> 10_16 --> 10_15 --> 10_14 --> 10_13 --> 10_12 --> 10_11 --> 10_10 --> 10_9 --> 10_8 --> 10_7 --> 10_6 --> 10_5 --> 10_4 --> 10_3 --> 10_2 --> 10_1 --> 10_0 --> 11_0 --> 12_1 --> 12_2 --> 12_3 --> 12_4 --> 12_5 --> 12_6 --> 12_7 --> 12_8 --> 12_9 --> 12_10 --> 12_11 --> 12_12 --> 12_13 --> 12_14 --> 12_15 --> 12_16 --> 12_17 --> 12_18 --> 12_19 --> 12_20 --> 12_21 --> 12_22 --> 12_23 --> 13_24 --> 14_24 --> 14_23 --> 14_22 --> 14_21 --> 14_20 --> 14_19 --> 14_18 --> 14_17 --> 14_16 --> 14_15 --> 14_14 --> 14_13 --> 14_12 --> 14_11 --> 14_10 --> 14_9 --> 14_8 --> 14_7 --> 14_6 --> 14_5 --> 14_4 --> 14_3 --> 14_2 --> 14_1 --> 14_0 --> 15_0 --> 16_1 --> 16_2 --> 16_3 --> 16_4 --> 16_5 --> 16_6 --> 16_7 --> 16_8 --> 16_9 --> 16_10 --> 16_11 --> 16_12 --> 16_13 --> 16_14 --> 16_15 --> 16_16 --> 16_17 --> 16_18 --> 16_19 --> 16_20 --> 16_21 --> 16_22 --> 16_23 --> 17_24 --> 18_24 --> 18_23 --> 18_22 --> 18_21 --> 18_20 --> 18_19 --> 18_18 --> 18_17 --> 18_16 --> 18_15 --> 18_14 --> 18_13 --> 18_12 --> 18_11 --> 18_10 --> 18_9 --> 18_8 --> 18_7 --> 18_6 --> 18_5 --> 18_4 --> 18_3 --> 18_2 --> 18_1 --> 18_0 --> 19_0 --> 20_1 --> 20_2 --> 20_3 --> 20_4 --> 20_5 --> 20_6 --> 20_7 --> 20_8 --> 20_9 --> 20_10 --> 20_11 --> 20_12 --> 20_13 --> 20_14 --> 20_15 --> 20_16 --> 20_17 --> 20_18 --> 20_19 --> 20_20 --> 20_21 --> 20_22 --> 20_23 --> 21_24 --> 22_24 --> 22_23 --> 22_22 --> 22_21 --> 22_20 --> 22_19 --> 22_18 --> 22_17 --> 22_16 --> 22_15 --> 22_14 --> 22_13 --> 22_12 --> 22_11 --> 22_10 --> 22_9 --> 22_8 --> 22_7 --> 22_6 --> 22_5 --> 22_4 --> 22_3 --> 22_2 --> 22_1 --> 22_0 --> 23_0 --> 24_1 --> 24_2 --> 24_3 --> 24_4 --> 24_5 --> 24_6 --> 24_7 --> 24_8 --> 24_9 --> 24_10 --> 24_11 --> 24_12 --> 24_13 --> 24_14 --> 24_15 --> 24_16 --> 24_17 --> 24_18 --> 24_19 --> 24_20 --> 24_21 --> 24_22 --> 24_23 --> 24_24\n",
      "3552\n",
      "../data/grid-25-1.txt\n",
      "sink : Name:24_24, Red:False\n",
      "Path Length = 123\n",
      "With Path: 0_0 --> 0_1 --> 0_2 --> 0_3 --> 0_4 --> 0_5 --> 0_6 --> 0_7 --> 0_8 --> 0_9 --> 0_10 --> 0_11 --> 0_12 --> 0_13 --> 0_14 --> 0_15 --> 0_16 --> 0_17 --> 0_18 --> 0_19 --> 0_20 --> 0_21 --> 0_22 --> 0_23 --> 1_24 --> 2_24 --> 2_23 --> 2_22 --> 2_21 --> 2_20 --> 2_19 --> 2_18 --> 2_17 --> 2_16 --> 2_15 --> 2_14 --> 2_13 --> 2_12 --> 2_11 --> 2_10 --> 2_9 --> 2_8 --> 2_7 --> 2_6 --> 2_5 --> 2_4 --> 2_3 --> 2_2 --> 2_1 --> 3_1 --> 4_2 --> 4_3 --> 4_4 --> 4_5 --> 4_6 --> 4_7 --> 4_8 --> 4_9 --> 4_10 --> 4_11 --> 5_12 --> 6_12 --> 6_11 --> 6_10 --> 6_9 --> 6_8 --> 6_7 --> 6_6 --> 6_5 --> 6_4 --> 6_3 --> 6_2 --> 6_1 --> 6_0 --> 7_0 --> 8_0 --> 9_1 --> 10_2 --> 10_3 --> 10_4 --> 10_5 --> 10_6 --> 11_7 --> 12_7 --> 13_7 --> 14_7 --> 14_6 --> 14_5 --> 14_4 --> 14_3 --> 14_2 --> 14_1 --> 14_0 --> 15_0 --> 16_0 --> 17_0 --> 18_0 --> 19_0 --> 20_0 --> 21_0 --> 22_1 --> 22_2 --> 22_3 --> 22_4 --> 22_5 --> 22_6 --> 22_7 --> 22_8 --> 22_9 --> 22_10 --> 22_11 --> 22_12 --> 22_13 --> 22_14 --> 22_15 --> 22_16 --> 22_17 --> 22_18 --> 23_19 --> 24_20 --> 24_21 --> 24_22 --> 24_23 --> 24_24\n",
      "3552\n",
      "../data/grid-25-2.txt\n",
      "sink : Name:24_24, Red:False\n",
      "-1\n",
      "3552\n",
      "../data/grid-5-0.txt\n",
      "sink : Name:4_4, Red:False\n",
      "Path Length = 14\n",
      "With Path: 0_0 --> 0_1 --> 0_2 --> 0_3 --> 1_4 --> 2_4 --> 2_3 --> 2_2 --> 2_1 --> 2_0 --> 3_0 --> 4_1 --> 4_2 --> 4_3 --> 4_4\n",
      "112\n",
      "../data/grid-5-1.txt\n",
      "sink : Name:4_4, Red:False\n",
      "Path Length = 8\n",
      "With Path: 0_0 --> 1_1 --> 2_1 --> 2_0 --> 3_0 --> 4_1 --> 4_2 --> 4_3 --> 4_4\n",
      "112\n",
      "../data/grid-5-2.txt\n",
      "sink : Name:4_4, Red:False\n",
      "-1\n",
      "112\n",
      "../data/grid-50-0.txt\n",
      "sink : Name:49_49, Red:False\n",
      "Path Length = 1249\n",
      "With Path: 0_0 --> 0_1 --> 0_2 --> 0_3 --> 0_4 --> 0_5 --> 0_6 --> 0_7 --> 0_8 --> 0_9 --> 0_10 --> 0_11 --> 0_12 --> 0_13 --> 0_14 --> 0_15 --> 0_16 --> 0_17 --> 0_18 --> 0_19 --> 0_20 --> 0_21 --> 0_22 --> 0_23 --> 0_24 --> 0_25 --> 0_26 --> 0_27 --> 0_28 --> 0_29 --> 0_30 --> 0_31 --> 0_32 --> 0_33 --> 0_34 --> 0_35 --> 0_36 --> 0_37 --> 0_38 --> 0_39 --> 0_40 --> 0_41 --> 0_42 --> 0_43 --> 0_44 --> 0_45 --> 0_46 --> 0_47 --> 0_48 --> 1_49 --> 2_49 --> 2_48 --> 2_47 --> 2_46 --> 2_45 --> 2_44 --> 2_43 --> 2_42 --> 2_41 --> 2_40 --> 2_39 --> 2_38 --> 2_37 --> 2_36 --> 2_35 --> 2_34 --> 2_33 --> 2_32 --> 2_31 --> 2_30 --> 2_29 --> 2_28 --> 2_27 --> 2_26 --> 2_25 --> 2_24 --> 2_23 --> 2_22 --> 2_21 --> 2_20 --> 2_19 --> 2_18 --> 2_17 --> 2_16 --> 2_15 --> 2_14 --> 2_13 --> 2_12 --> 2_11 --> 2_10 --> 2_9 --> 2_8 --> 2_7 --> 2_6 --> 2_5 --> 2_4 --> 2_3 --> 2_2 --> 2_1 --> 2_0 --> 3_0 --> 4_1 --> 4_2 --> 4_3 --> 4_4 --> 4_5 --> 4_6 --> 4_7 --> 4_8 --> 4_9 --> 4_10 --> 4_11 --> 4_12 --> 4_13 --> 4_14 --> 4_15 --> 4_16 --> 4_17 --> 4_18 --> 4_19 --> 4_20 --> 4_21 --> 4_22 --> 4_23 --> 4_24 --> 4_25 --> 4_26 --> 4_27 --> 4_28 --> 4_29 --> 4_30 --> 4_31 --> 4_32 --> 4_33 --> 4_34 --> 4_35 --> 4_36 --> 4_37 --> 4_38 --> 4_39 --> 4_40 --> 4_41 --> 4_42 --> 4_43 --> 4_44 --> 4_45 --> 4_46 --> 4_47 --> 4_48 --> 5_49 --> 6_49 --> 6_48 --> 6_47 --> 6_46 --> 6_45 --> 6_44 --> 6_43 --> 6_42 --> 6_41 --> 6_40 --> 6_39 --> 6_38 --> 6_37 --> 6_36 --> 6_35 --> 6_34 --> 6_33 --> 6_32 --> 6_31 --> 6_30 --> 6_29 --> 6_28 --> 6_27 --> 6_26 --> 6_25 --> 6_24 --> 6_23 --> 6_22 --> 6_21 --> 6_20 --> 6_19 --> 6_18 --> 6_17 --> 6_16 --> 6_15 --> 6_14 --> 6_13 --> 6_12 --> 6_11 --> 6_10 --> 6_9 --> 6_8 --> 6_7 --> 6_6 --> 6_5 --> 6_4 --> 6_3 --> 6_2 --> 6_1 --> 6_0 --> 7_0 --> 8_1 --> 8_2 --> 8_3 --> 8_4 --> 8_5 --> 8_6 --> 8_7 --> 8_8 --> 8_9 --> 8_10 --> 8_11 --> 8_12 --> 8_13 --> 8_14 --> 8_15 --> 8_16 --> 8_17 --> 8_18 --> 8_19 --> 8_20 --> 8_21 --> 8_22 --> 8_23 --> 8_24 --> 8_25 --> 8_26 --> 8_27 --> 8_28 --> 8_29 --> 8_30 --> 8_31 --> 8_32 --> 8_33 --> 8_34 --> 8_35 --> 8_36 --> 8_37 --> 8_38 --> 8_39 --> 8_40 --> 8_41 --> 8_42 --> 8_43 --> 8_44 --> 8_45 --> 8_46 --> 8_47 --> 8_48 --> 9_49 --> 10_49 --> 10_48 --> 10_47 --> 10_46 --> 10_45 --> 10_44 --> 10_43 --> 10_42 --> 10_41 --> 10_40 --> 10_39 --> 10_38 --> 10_37 --> 10_36 --> 10_35 --> 10_34 --> 10_33 --> 10_32 --> 10_31 --> 10_30 --> 10_29 --> 10_28 --> 10_27 --> 10_26 --> 10_25 --> 10_24 --> 10_23 --> 10_22 --> 10_21 --> 10_20 --> 10_19 --> 10_18 --> 10_17 --> 10_16 --> 10_15 --> 10_14 --> 10_13 --> 10_12 --> 10_11 --> 10_10 --> 10_9 --> 10_8 --> 10_7 --> 10_6 --> 10_5 --> 10_4 --> 10_3 --> 10_2 --> 10_1 --> 10_0 --> 11_0 --> 12_1 --> 12_2 --> 12_3 --> 12_4 --> 12_5 --> 12_6 --> 12_7 --> 12_8 --> 12_9 --> 12_10 --> 12_11 --> 12_12 --> 12_13 --> 12_14 --> 12_15 --> 12_16 --> 12_17 --> 12_18 --> 12_19 --> 12_20 --> 12_21 --> 12_22 --> 12_23 --> 12_24 --> 12_25 --> 12_26 --> 12_27 --> 12_28 --> 12_29 --> 12_30 --> 12_31 --> 12_32 --> 12_33 --> 12_34 --> 12_35 --> 12_36 --> 12_37 --> 12_38 --> 12_39 --> 12_40 --> 12_41 --> 12_42 --> 12_43 --> 12_44 --> 12_45 --> 12_46 --> 12_47 --> 12_48 --> 13_49 --> 14_49 --> 14_48 --> 14_47 --> 14_46 --> 14_45 --> 14_44 --> 14_43 --> 14_42 --> 14_41 --> 14_40 --> 14_39 --> 14_38 --> 14_37 --> 14_36 --> 14_35 --> 14_34 --> 14_33 --> 14_32 --> 14_31 --> 14_30 --> 14_29 --> 14_28 --> 14_27 --> 14_26 --> 14_25 --> 14_24 --> 14_23 --> 14_22 --> 14_21 --> 14_20 --> 14_19 --> 14_18 --> 14_17 --> 14_16 --> 14_15 --> 14_14 --> 14_13 --> 14_12 --> 14_11 --> 14_10 --> 14_9 --> 14_8 --> 14_7 --> 14_6 --> 14_5 --> 14_4 --> 14_3 --> 14_2 --> 14_1 --> 14_0 --> 15_0 --> 16_1 --> 16_2 --> 16_3 --> 16_4 --> 16_5 --> 16_6 --> 16_7 --> 16_8 --> 16_9 --> 16_10 --> 16_11 --> 16_12 --> 16_13 --> 16_14 --> 16_15 --> 16_16 --> 16_17 --> 16_18 --> 16_19 --> 16_20 --> 16_21 --> 16_22 --> 16_23 --> 16_24 --> 16_25 --> 16_26 --> 16_27 --> 16_28 --> 16_29 --> 16_30 --> 16_31 --> 16_32 --> 16_33 --> 16_34 --> 16_35 --> 16_36 --> 16_37 --> 16_38 --> 16_39 --> 16_40 --> 16_41 --> 16_42 --> 16_43 --> 16_44 --> 16_45 --> 16_46 --> 16_47 --> 16_48 --> 17_49 --> 18_49 --> 18_48 --> 18_47 --> 18_46 --> 18_45 --> 18_44 --> 18_43 --> 18_42 --> 18_41 --> 18_40 --> 18_39 --> 18_38 --> 18_37 --> 18_36 --> 18_35 --> 18_34 --> 18_33 --> 18_32 --> 18_31 --> 18_30 --> 18_29 --> 18_28 --> 18_27 --> 18_26 --> 18_25 --> 18_24 --> 18_23 --> 18_22 --> 18_21 --> 18_20 --> 18_19 --> 18_18 --> 18_17 --> 18_16 --> 18_15 --> 18_14 --> 18_13 --> 18_12 --> 18_11 --> 18_10 --> 18_9 --> 18_8 --> 18_7 --> 18_6 --> 18_5 --> 18_4 --> 18_3 --> 18_2 --> 18_1 --> 18_0 --> 19_0 --> 20_1 --> 20_2 --> 20_3 --> 20_4 --> 20_5 --> 20_6 --> 20_7 --> 20_8 --> 20_9 --> 20_10 --> 20_11 --> 20_12 --> 20_13 --> 20_14 --> 20_15 --> 20_16 --> 20_17 --> 20_18 --> 20_19 --> 20_20 --> 20_21 --> 20_22 --> 20_23 --> 20_24 --> 20_25 --> 20_26 --> 20_27 --> 20_28 --> 20_29 --> 20_30 --> 20_31 --> 20_32 --> 20_33 --> 20_34 --> 20_35 --> 20_36 --> 20_37 --> 20_38 --> 20_39 --> 20_40 --> 20_41 --> 20_42 --> 20_43 --> 20_44 --> 20_45 --> 20_46 --> 20_47 --> 20_48 --> 21_49 --> 22_49 --> 22_48 --> 22_47 --> 22_46 --> 22_45 --> 22_44 --> 22_43 --> 22_42 --> 22_41 --> 22_40 --> 22_39 --> 22_38 --> 22_37 --> 22_36 --> 22_35 --> 22_34 --> 22_33 --> 22_32 --> 22_31 --> 22_30 --> 22_29 --> 22_28 --> 22_27 --> 22_26 --> 22_25 --> 22_24 --> 22_23 --> 22_22 --> 22_21 --> 22_20 --> 22_19 --> 22_18 --> 22_17 --> 22_16 --> 22_15 --> 22_14 --> 22_13 --> 22_12 --> 22_11 --> 22_10 --> 22_9 --> 22_8 --> 22_7 --> 22_6 --> 22_5 --> 22_4 --> 22_3 --> 22_2 --> 22_1 --> 22_0 --> 23_0 --> 24_1 --> 24_2 --> 24_3 --> 24_4 --> 24_5 --> 24_6 --> 24_7 --> 24_8 --> 24_9 --> 24_10 --> 24_11 --> 24_12 --> 24_13 --> 24_14 --> 24_15 --> 24_16 --> 24_17 --> 24_18 --> 24_19 --> 24_20 --> 24_21 --> 24_22 --> 24_23 --> 24_24 --> 24_25 --> 24_26 --> 24_27 --> 24_28 --> 24_29 --> 24_30 --> 24_31 --> 24_32 --> 24_33 --> 24_34 --> 24_35 --> 24_36 --> 24_37 --> 24_38 --> 24_39 --> 24_40 --> 24_41 --> 24_42 --> 24_43 --> 24_44 --> 24_45 --> 24_46 --> 24_47 --> 24_48 --> 25_49 --> 26_49 --> 26_48 --> 26_47 --> 26_46 --> 26_45 --> 26_44 --> 26_43 --> 26_42 --> 26_41 --> 26_40 --> 26_39 --> 26_38 --> 26_37 --> 26_36 --> 26_35 --> 26_34 --> 26_33 --> 26_32 --> 26_31 --> 26_30 --> 26_29 --> 26_28 --> 26_27 --> 26_26 --> 26_25 --> 26_24 --> 26_23 --> 26_22 --> 26_21 --> 26_20 --> 26_19 --> 26_18 --> 26_17 --> 26_16 --> 26_15 --> 26_14 --> 26_13 --> 26_12 --> 26_11 --> 26_10 --> 26_9 --> 26_8 --> 26_7 --> 26_6 --> 26_5 --> 26_4 --> 26_3 --> 26_2 --> 26_1 --> 26_0 --> 27_0 --> 28_1 --> 28_2 --> 28_3 --> 28_4 --> 28_5 --> 28_6 --> 28_7 --> 28_8 --> 28_9 --> 28_10 --> 28_11 --> 28_12 --> 28_13 --> 28_14 --> 28_15 --> 28_16 --> 28_17 --> 28_18 --> 28_19 --> 28_20 --> 28_21 --> 28_22 --> 28_23 --> 28_24 --> 28_25 --> 28_26 --> 28_27 --> 28_28 --> 28_29 --> 28_30 --> 28_31 --> 28_32 --> 28_33 --> 28_34 --> 28_35 --> 28_36 --> 28_37 --> 28_38 --> 28_39 --> 28_40 --> 28_41 --> 28_42 --> 28_43 --> 28_44 --> 28_45 --> 28_46 --> 28_47 --> 28_48 --> 29_49 --> 30_49 --> 30_48 --> 30_47 --> 30_46 --> 30_45 --> 30_44 --> 30_43 --> 30_42 --> 30_41 --> 30_40 --> 30_39 --> 30_38 --> 30_37 --> 30_36 --> 30_35 --> 30_34 --> 30_33 --> 30_32 --> 30_31 --> 30_30 --> 30_29 --> 30_28 --> 30_27 --> 30_26 --> 30_25 --> 30_24 --> 30_23 --> 30_22 --> 30_21 --> 30_20 --> 30_19 --> 30_18 --> 30_17 --> 30_16 --> 30_15 --> 30_14 --> 30_13 --> 30_12 --> 30_11 --> 30_10 --> 30_9 --> 30_8 --> 30_7 --> 30_6 --> 30_5 --> 30_4 --> 30_3 --> 30_2 --> 30_1 --> 30_0 --> 31_0 --> 32_1 --> 32_2 --> 32_3 --> 32_4 --> 32_5 --> 32_6 --> 32_7 --> 32_8 --> 32_9 --> 32_10 --> 32_11 --> 32_12 --> 32_13 --> 32_14 --> 32_15 --> 32_16 --> 32_17 --> 32_18 --> 32_19 --> 32_20 --> 32_21 --> 32_22 --> 32_23 --> 32_24 --> 32_25 --> 32_26 --> 32_27 --> 32_28 --> 32_29 --> 32_30 --> 32_31 --> 32_32 --> 32_33 --> 32_34 --> 32_35 --> 32_36 --> 32_37 --> 32_38 --> 32_39 --> 32_40 --> 32_41 --> 32_42 --> 32_43 --> 32_44 --> 32_45 --> 32_46 --> 32_47 --> 32_48 --> 33_49 --> 34_49 --> 34_48 --> 34_47 --> 34_46 --> 34_45 --> 34_44 --> 34_43 --> 34_42 --> 34_41 --> 34_40 --> 34_39 --> 34_38 --> 34_37 --> 34_36 --> 34_35 --> 34_34 --> 34_33 --> 34_32 --> 34_31 --> 34_30 --> 34_29 --> 34_28 --> 34_27 --> 34_26 --> 34_25 --> 34_24 --> 34_23 --> 34_22 --> 34_21 --> 34_20 --> 34_19 --> 34_18 --> 34_17 --> 34_16 --> 34_15 --> 34_14 --> 34_13 --> 34_12 --> 34_11 --> 34_10 --> 34_9 --> 34_8 --> 34_7 --> 34_6 --> 34_5 --> 34_4 --> 34_3 --> 34_2 --> 34_1 --> 34_0 --> 35_0 --> 36_1 --> 36_2 --> 36_3 --> 36_4 --> 36_5 --> 36_6 --> 36_7 --> 36_8 --> 36_9 --> 36_10 --> 36_11 --> 36_12 --> 36_13 --> 36_14 --> 36_15 --> 36_16 --> 36_17 --> 36_18 --> 36_19 --> 36_20 --> 36_21 --> 36_22 --> 36_23 --> 36_24 --> 36_25 --> 36_26 --> 36_27 --> 36_28 --> 36_29 --> 36_30 --> 36_31 --> 36_32 --> 36_33 --> 36_34 --> 36_35 --> 36_36 --> 36_37 --> 36_38 --> 36_39 --> 36_40 --> 36_41 --> 36_42 --> 36_43 --> 36_44 --> 36_45 --> 36_46 --> 36_47 --> 36_48 --> 37_49 --> 38_49 --> 38_48 --> 38_47 --> 38_46 --> 38_45 --> 38_44 --> 38_43 --> 38_42 --> 38_41 --> 38_40 --> 38_39 --> 38_38 --> 38_37 --> 38_36 --> 38_35 --> 38_34 --> 38_33 --> 38_32 --> 38_31 --> 38_30 --> 38_29 --> 38_28 --> 38_27 --> 38_26 --> 38_25 --> 38_24 --> 38_23 --> 38_22 --> 38_21 --> 38_20 --> 38_19 --> 38_18 --> 38_17 --> 38_16 --> 38_15 --> 38_14 --> 38_13 --> 38_12 --> 38_11 --> 38_10 --> 38_9 --> 38_8 --> 38_7 --> 38_6 --> 38_5 --> 38_4 --> 38_3 --> 38_2 --> 38_1 --> 38_0 --> 39_0 --> 40_1 --> 40_2 --> 40_3 --> 40_4 --> 40_5 --> 40_6 --> 40_7 --> 40_8 --> 40_9 --> 40_10 --> 40_11 --> 40_12 --> 40_13 --> 40_14 --> 40_15 --> 40_16 --> 40_17 --> 40_18 --> 40_19 --> 40_20 --> 40_21 --> 40_22 --> 40_23 --> 40_24 --> 40_25 --> 40_26 --> 40_27 --> 40_28 --> 40_29 --> 40_30 --> 40_31 --> 40_32 --> 40_33 --> 40_34 --> 40_35 --> 40_36 --> 40_37 --> 40_38 --> 40_39 --> 40_40 --> 40_41 --> 40_42 --> 40_43 --> 40_44 --> 40_45 --> 40_46 --> 40_47 --> 40_48 --> 41_49 --> 42_49 --> 42_48 --> 42_47 --> 42_46 --> 42_45 --> 42_44 --> 42_43 --> 42_42 --> 42_41 --> 42_40 --> 42_39 --> 42_38 --> 42_37 --> 42_36 --> 42_35 --> 42_34 --> 42_33 --> 42_32 --> 42_31 --> 42_30 --> 42_29 --> 42_28 --> 42_27 --> 42_26 --> 42_25 --> 42_24 --> 42_23 --> 42_22 --> 42_21 --> 42_20 --> 42_19 --> 42_18 --> 42_17 --> 42_16 --> 42_15 --> 42_14 --> 42_13 --> 42_12 --> 42_11 --> 42_10 --> 42_9 --> 42_8 --> 42_7 --> 42_6 --> 42_5 --> 42_4 --> 42_3 --> 42_2 --> 42_1 --> 42_0 --> 43_0 --> 44_1 --> 44_2 --> 44_3 --> 44_4 --> 44_5 --> 44_6 --> 44_7 --> 44_8 --> 44_9 --> 44_10 --> 44_11 --> 44_12 --> 44_13 --> 44_14 --> 44_15 --> 44_16 --> 44_17 --> 44_18 --> 44_19 --> 44_20 --> 44_21 --> 44_22 --> 44_23 --> 44_24 --> 44_25 --> 44_26 --> 44_27 --> 44_28 --> 44_29 --> 44_30 --> 44_31 --> 44_32 --> 44_33 --> 44_34 --> 44_35 --> 44_36 --> 44_37 --> 44_38 --> 44_39 --> 44_40 --> 44_41 --> 44_42 --> 44_43 --> 44_44 --> 44_45 --> 44_46 --> 44_47 --> 44_48 --> 45_49 --> 46_49 --> 46_48 --> 46_47 --> 46_46 --> 46_45 --> 46_44 --> 46_43 --> 46_42 --> 46_41 --> 46_40 --> 46_39 --> 46_38 --> 46_37 --> 46_36 --> 46_35 --> 46_34 --> 46_33 --> 46_32 --> 46_31 --> 46_30 --> 46_29 --> 46_28 --> 46_27 --> 46_26 --> 46_25 --> 46_24 --> 46_23 --> 46_22 --> 46_21 --> 46_20 --> 46_19 --> 46_18 --> 46_17 --> 46_16 --> 46_15 --> 46_14 --> 46_13 --> 46_12 --> 46_11 --> 46_10 --> 46_9 --> 46_8 --> 46_7 --> 46_6 --> 46_5 --> 46_4 --> 46_3 --> 46_2 --> 46_1 --> 46_0 --> 47_0 --> 48_1 --> 49_2 --> 49_3 --> 49_4 --> 49_5 --> 49_6 --> 49_7 --> 49_8 --> 49_9 --> 49_10 --> 49_11 --> 49_12 --> 49_13 --> 49_14 --> 49_15 --> 49_16 --> 49_17 --> 49_18 --> 49_19 --> 49_20 --> 49_21 --> 49_22 --> 49_23 --> 49_24 --> 49_25 --> 49_26 --> 49_27 --> 49_28 --> 49_29 --> 49_30 --> 49_31 --> 49_32 --> 49_33 --> 49_34 --> 49_35 --> 49_36 --> 49_37 --> 49_38 --> 49_39 --> 49_40 --> 49_41 --> 49_42 --> 49_43 --> 49_44 --> 49_45 --> 49_46 --> 49_47 --> 49_48 --> 49_49\n",
      "14602\n",
      "../data/grid-50-1.txt\n"
     ]
    },
    {
     "name": "stderr",
     "output_type": "stream",
     "text": [
      " 45%|████▌     | 70/155 [00:11<00:05, 15.55it/s]"
     ]
    },
    {
     "name": "stdout",
     "output_type": "stream",
     "text": [
      "sink : Name:49_49, Red:False\n",
      "Path Length = 521\n",
      "With Path: 0_0 --> 0_1 --> 0_2 --> 0_3 --> 0_4 --> 0_5 --> 0_6 --> 0_7 --> 0_8 --> 0_9 --> 0_10 --> 0_11 --> 0_12 --> 0_13 --> 0_14 --> 0_15 --> 0_16 --> 0_17 --> 0_18 --> 0_19 --> 0_20 --> 0_21 --> 0_22 --> 0_23 --> 0_24 --> 0_25 --> 0_26 --> 0_27 --> 0_28 --> 0_29 --> 0_30 --> 0_31 --> 0_32 --> 0_33 --> 0_34 --> 0_35 --> 0_36 --> 0_37 --> 0_38 --> 0_39 --> 0_40 --> 0_41 --> 0_42 --> 0_43 --> 0_44 --> 0_45 --> 0_46 --> 0_47 --> 0_48 --> 1_49 --> 2_49 --> 2_48 --> 2_47 --> 2_46 --> 2_45 --> 2_44 --> 2_43 --> 2_42 --> 2_41 --> 2_40 --> 2_39 --> 2_38 --> 2_37 --> 2_36 --> 2_35 --> 2_34 --> 3_34 --> 4_35 --> 4_36 --> 4_37 --> 4_38 --> 4_39 --> 5_40 --> 6_40 --> 6_39 --> 6_38 --> 6_37 --> 6_36 --> 6_35 --> 6_34 --> 6_33 --> 6_32 --> 7_32 --> 8_33 --> 8_34 --> 9_35 --> 10_35 --> 10_34 --> 10_33 --> 10_32 --> 10_31 --> 10_30 --> 10_29 --> 10_28 --> 10_27 --> 10_26 --> 10_25 --> 10_24 --> 10_23 --> 10_22 --> 10_21 --> 10_20 --> 10_19 --> 10_18 --> 10_17 --> 11_17 --> 12_18 --> 12_19 --> 12_20 --> 12_21 --> 12_22 --> 12_23 --> 12_24 --> 12_25 --> 12_26 --> 12_27 --> 12_28 --> 12_29 --> 12_30 --> 12_31 --> 12_32 --> 12_33 --> 12_34 --> 13_35 --> 14_36 --> 14_37 --> 14_38 --> 14_39 --> 14_40 --> 14_41 --> 14_42 --> 14_43 --> 14_44 --> 14_45 --> 14_46 --> 14_47 --> 15_48 --> 16_48 --> 16_47 --> 16_46 --> 16_45 --> 16_44 --> 16_43 --> 16_42 --> 16_41 --> 16_40 --> 16_39 --> 16_38 --> 16_37 --> 16_36 --> 16_35 --> 16_34 --> 16_33 --> 16_32 --> 16_31 --> 17_31 --> 18_31 --> 18_30 --> 19_30 --> 20_30 --> 20_29 --> 20_28 --> 20_27 --> 20_26 --> 20_25 --> 20_24 --> 20_23 --> 20_22 --> 20_21 --> 20_20 --> 20_19 --> 20_18 --> 20_17 --> 20_16 --> 20_15 --> 20_14 --> 21_14 --> 22_14 --> 22_13 --> 22_12 --> 22_11 --> 22_10 --> 22_9 --> 22_8 --> 23_8 --> 24_9 --> 24_10 --> 24_11 --> 24_12 --> 24_13 --> 24_14 --> 24_15 --> 24_16 --> 24_17 --> 24_18 --> 24_19 --> 24_20 --> 24_21 --> 24_22 --> 24_23 --> 24_24 --> 24_25 --> 24_26 --> 24_27 --> 24_28 --> 24_29 --> 24_30 --> 24_31 --> 24_32 --> 24_33 --> 24_34 --> 24_35 --> 24_36 --> 24_37 --> 24_38 --> 24_39 --> 24_40 --> 24_41 --> 24_42 --> 24_43 --> 24_44 --> 24_45 --> 24_46 --> 24_47 --> 24_48 --> 25_49 --> 26_49 --> 26_48 --> 26_47 --> 26_46 --> 26_45 --> 26_44 --> 26_43 --> 26_42 --> 26_41 --> 26_40 --> 26_39 --> 26_38 --> 27_38 --> 28_39 --> 28_40 --> 29_41 --> 30_41 --> 30_40 --> 30_39 --> 30_38 --> 30_37 --> 30_36 --> 30_35 --> 30_34 --> 30_33 --> 30_32 --> 30_31 --> 30_30 --> 30_29 --> 30_28 --> 30_27 --> 30_26 --> 30_25 --> 30_24 --> 30_23 --> 30_22 --> 30_21 --> 30_20 --> 30_19 --> 30_18 --> 30_17 --> 30_16 --> 30_15 --> 30_14 --> 30_13 --> 30_12 --> 30_11 --> 30_10 --> 30_9 --> 30_8 --> 30_7 --> 30_6 --> 30_5 --> 30_4 --> 30_3 --> 30_2 --> 30_1 --> 30_0 --> 31_0 --> 32_1 --> 32_2 --> 32_3 --> 32_4 --> 32_5 --> 32_6 --> 32_7 --> 32_8 --> 32_9 --> 32_10 --> 32_11 --> 32_12 --> 32_13 --> 32_14 --> 32_15 --> 32_16 --> 32_17 --> 32_18 --> 32_19 --> 32_20 --> 32_21 --> 32_22 --> 32_23 --> 32_24 --> 32_25 --> 32_26 --> 32_27 --> 32_28 --> 32_29 --> 32_30 --> 32_31 --> 32_32 --> 32_33 --> 32_34 --> 32_35 --> 32_36 --> 32_37 --> 32_38 --> 32_39 --> 32_40 --> 32_41 --> 32_42 --> 32_43 --> 32_44 --> 32_45 --> 32_46 --> 32_47 --> 32_48 --> 33_49 --> 34_49 --> 34_48 --> 34_47 --> 34_46 --> 34_45 --> 34_44 --> 34_43 --> 34_42 --> 34_41 --> 34_40 --> 34_39 --> 34_38 --> 34_37 --> 34_36 --> 34_35 --> 34_34 --> 34_33 --> 34_32 --> 34_31 --> 34_30 --> 34_29 --> 34_28 --> 34_27 --> 34_26 --> 34_25 --> 34_24 --> 34_23 --> 34_22 --> 34_21 --> 34_20 --> 34_19 --> 34_18 --> 34_17 --> 34_16 --> 34_15 --> 34_14 --> 34_13 --> 34_12 --> 34_11 --> 34_10 --> 34_9 --> 34_8 --> 34_7 --> 34_6 --> 34_5 --> 34_4 --> 34_3 --> 34_2 --> 34_1 --> 34_0 --> 35_0 --> 36_1 --> 36_2 --> 36_3 --> 36_4 --> 36_5 --> 36_6 --> 36_7 --> 36_8 --> 36_9 --> 36_10 --> 36_11 --> 36_12 --> 36_13 --> 37_14 --> 38_14 --> 38_13 --> 38_12 --> 38_11 --> 38_10 --> 38_9 --> 38_8 --> 38_7 --> 38_6 --> 38_5 --> 38_4 --> 38_3 --> 38_2 --> 39_2 --> 40_3 --> 40_4 --> 40_5 --> 40_6 --> 40_7 --> 40_8 --> 40_9 --> 40_10 --> 40_11 --> 40_12 --> 40_13 --> 40_14 --> 40_15 --> 40_16 --> 40_17 --> 40_18 --> 40_19 --> 40_20 --> 40_21 --> 40_22 --> 40_23 --> 40_24 --> 40_25 --> 40_26 --> 40_27 --> 40_28 --> 40_29 --> 41_30 --> 42_30 --> 42_29 --> 42_28 --> 42_27 --> 42_26 --> 42_25 --> 42_24 --> 43_24 --> 44_24 --> 44_23 --> 44_22 --> 44_21 --> 44_20 --> 44_19 --> 44_18 --> 44_17 --> 44_16 --> 44_15 --> 44_14 --> 44_13 --> 44_12 --> 44_11 --> 44_10 --> 44_9 --> 44_8 --> 44_7 --> 44_6 --> 44_5 --> 44_4 --> 44_3 --> 44_2 --> 44_1 --> 45_1 --> 46_2 --> 46_3 --> 46_4 --> 46_5 --> 46_6 --> 46_7 --> 46_8 --> 46_9 --> 46_10 --> 46_11 --> 46_12 --> 46_13 --> 46_14 --> 46_15 --> 46_16 --> 46_17 --> 46_18 --> 46_19 --> 46_20 --> 46_21 --> 46_22 --> 47_23 --> 48_24 --> 49_25 --> 49_26 --> 49_27 --> 49_28 --> 49_29 --> 49_30 --> 49_31 --> 49_32 --> 49_33 --> 49_34 --> 49_35 --> 49_36 --> 49_37 --> 49_38 --> 49_39 --> 49_40 --> 49_41 --> 49_42 --> 49_43 --> 49_44 --> 49_45 --> 49_46 --> 49_47 --> 49_48 --> 49_49\n",
      "14602\n",
      "../data/grid-50-2.txt\n",
      "sink : Name:49_49, Red:False\n",
      "-1\n",
      "14602\n",
      "../data/increase-n10-1.txt\n",
      "sink : Name:9, Red:True\n",
      "Path Length = 1\n",
      "With Path: 6 --> 9\n",
      "21\n",
      "../data/increase-n10-2.txt\n",
      "sink : Name:15, Red:True\n",
      "Path Length = 1\n",
      "With Path: 5 --> 15\n",
      "29\n",
      "../data/increase-n10-3.txt\n",
      "sink : Name:15, Red:True\n",
      "-1\n",
      "26\n",
      "../data/increase-n100-1.txt\n",
      "sink : Name:72, Red:False\n",
      "-1\n",
      "2642\n",
      "../data/increase-n100-2.txt\n",
      "sink : Name:175, Red:True\n",
      "Path Length = 1\n",
      "With Path: 7 --> 175\n",
      "2551\n",
      "../data/increase-n100-3.txt\n",
      "sink : Name:76, Red:False\n",
      "-1\n",
      "2213\n",
      "../data/increase-n20-1.txt\n",
      "sink : Name:15, Red:True\n",
      "-1\n",
      "80\n",
      "../data/increase-n20-2.txt\n",
      "sink : Name:40, Red:False\n",
      "Path Length = 1\n",
      "With Path: 21 --> 40\n",
      "129\n",
      "../data/increase-n20-3.txt\n",
      "sink : Name:4, Red:False\n",
      "-1\n",
      "99\n",
      "../data/increase-n50-1.txt\n",
      "sink : Name:6, Red:False\n",
      "-1\n",
      "641\n",
      "../data/increase-n50-2.txt\n",
      "sink : Name:79, Red:True\n",
      "Path Length = 1\n",
      "With Path: 32 --> 79\n",
      "537\n",
      "../data/increase-n50-3.txt\n",
      "sink : Name:67, Red:True\n",
      "Path Length = 1\n",
      "With Path: 20 --> 67\n",
      "648\n",
      "../data/increase-n500-1.txt\n"
     ]
    },
    {
     "name": "stderr",
     "output_type": "stream",
     "text": [
      " 53%|█████▎    | 82/155 [00:11<00:03, 18.98it/s]"
     ]
    },
    {
     "name": "stdout",
     "output_type": "stream",
     "text": [
      "sink : Name:663, Red:True\n",
      "Path Length = 1\n",
      "With Path: 267 --> 663\n",
      "62600\n",
      "../data/increase-n500-2.txt\n",
      "sink : Name:707, Red:True\n",
      "Path Length = 1\n",
      "With Path: 356 --> 707\n",
      "64522\n",
      "../data/increase-n500-3.txt\n"
     ]
    },
    {
     "name": "stderr",
     "output_type": "stream",
     "text": [
      " 60%|██████    | 93/155 [00:12<00:03, 17.19it/s]"
     ]
    },
    {
     "name": "stdout",
     "output_type": "stream",
     "text": [
      "sink : Name:537, Red:True\n",
      "Path Length = 1\n",
      "With Path: 98 --> 537\n",
      "61751\n",
      "../data/increase-n8-1.txt\n",
      "sink : Name:5, Red:True\n",
      "Path Length = 1\n",
      "With Path: 2 --> 5\n",
      "16\n",
      "../data/increase-n8-2.txt\n",
      "sink : Name:12, Red:False\n",
      "Path Length = 1\n",
      "With Path: 11 --> 12\n",
      "13\n",
      "../data/increase-n8-3.txt\n",
      "sink : Name:14, Red:False\n",
      "Path Length = 1\n",
      "With Path: 8 --> 14\n",
      "20\n",
      "../data/P3.txt\n",
      "sink : Name:3, Red:False\n",
      "-1\n",
      "4\n",
      "../data/rusty-1-17.txt\n",
      "sink : Name:ender, Red:False\n",
      "Path Length = 10\n",
      "With Path: begin --> binge --> tinge --> tings --> rings --> rungs --> runts --> rents --> rente --> enter --> ender\n",
      "42\n",
      "../data/rusty-1-2000.txt\n",
      "sink : Name:ender, Red:False\n",
      "-1\n",
      "4002\n",
      "../data/rusty-1-2500.txt\n",
      "sink : Name:ender, Red:False\n",
      "-1\n",
      "6268\n",
      "../data/rusty-1-3000.txt\n",
      "sink : Name:ender, Red:False\n",
      "Path Length = 14\n",
      "With Path: begin --> being --> bring --> brink --> crink --> clink --> slink --> links --> dinks --> dunks --> dunes --> nudes --> nuder --> under --> ender\n",
      "8888\n",
      "../data/rusty-1-3500.txt\n",
      "sink : Name:ender, Red:False\n",
      "Path Length = 14\n",
      "With Path: begin --> being --> bring --> brink --> brick --> trick --> truck --> truce --> cuter --> cater --> water --> wader --> wider --> eider --> ender\n",
      "11948\n",
      "../data/rusty-1-4000.txt\n",
      "sink : Name:ender, Red:False\n",
      "Path Length = 13\n",
      "With Path: begin --> being --> bring --> brink --> crink --> crank --> crane --> caner --> carer --> corer --> coder --> cider --> eider --> ender\n",
      "15488\n",
      "../data/rusty-1-4500.txt\n"
     ]
    },
    {
     "name": "stderr",
     "output_type": "stream",
     "text": [
      " 63%|██████▎   | 97/155 [00:13<00:04, 12.29it/s]"
     ]
    },
    {
     "name": "stdout",
     "output_type": "stream",
     "text": [
      "sink : Name:ender, Red:False\n",
      "Path Length = 7\n",
      "With Path: begin --> being --> bring --> brine --> bride --> bider --> eider --> ender\n",
      "19800\n",
      "../data/rusty-1-5000.txt\n",
      "sink : Name:ender, Red:False\n",
      "Path Length = 7\n",
      "With Path: begin --> being --> bring --> brine --> bride --> bider --> eider --> ender\n",
      "24120\n",
      "../data/rusty-1-5757.txt\n",
      "sink : Name:ender, Red:False\n",
      "Path Length = 7\n",
      "With Path: begin --> being --> bring --> brine --> bride --> bider --> eider --> ender\n",
      "31890\n",
      "../data/rusty-2-2000.txt\n",
      "sink : Name:ender, Red:False\n",
      "Path Length = 5\n",
      "With Path: begin --> login --> loges --> coxes --> coder --> ender\n",
      "40844\n",
      "../data/rusty-2-2500.txt\n"
     ]
    },
    {
     "name": "stderr",
     "output_type": "stream",
     "text": [
      " 65%|██████▍   | 100/155 [00:14<00:06,  8.30it/s]"
     ]
    },
    {
     "name": "stdout",
     "output_type": "stream",
     "text": [
      "sink : Name:ender, Red:False\n",
      "Path Length = 4\n",
      "With Path: begin --> beget --> bidet --> aider --> ender\n",
      "64008\n",
      "../data/rusty-2-3000.txt\n",
      "sink : Name:ender, Red:False\n",
      "Path Length = 4\n",
      "With Path: begin --> beget --> bidet --> aider --> ender\n",
      "90664\n",
      "../data/rusty-2-3500.txt\n"
     ]
    },
    {
     "name": "stderr",
     "output_type": "stream",
     "text": [
      " 66%|██████▌   | 102/155 [00:15<00:11,  4.68it/s]"
     ]
    },
    {
     "name": "stdout",
     "output_type": "stream",
     "text": [
      "sink : Name:ender, Red:False\n",
      "Path Length = 4\n",
      "With Path: begin --> beget --> bidet --> aider --> ender\n",
      "122884\n",
      "../data/rusty-2-4000.txt\n",
      "sink : Name:ender, Red:False\n",
      "Path Length = 4\n",
      "With Path: begin --> beget --> bidet --> aider --> ender\n",
      "158864\n",
      "../data/rusty-2-4500.txt\n"
     ]
    },
    {
     "name": "stderr",
     "output_type": "stream",
     "text": [
      " 67%|██████▋   | 104/155 [00:18<00:19,  2.64it/s]"
     ]
    },
    {
     "name": "stdout",
     "output_type": "stream",
     "text": [
      "sink : Name:ender, Red:False\n",
      "Path Length = 4\n",
      "With Path: begin --> algin --> alien --> alder --> ender\n",
      "202172\n",
      "../data/rusty-2-5000.txt\n"
     ]
    },
    {
     "name": "stderr",
     "output_type": "stream",
     "text": [
      " 68%|██████▊   | 105/155 [00:19<00:24,  2.08it/s]"
     ]
    },
    {
     "name": "stdout",
     "output_type": "stream",
     "text": [
      "sink : Name:ender, Red:False\n",
      "Path Length = 4\n",
      "With Path: begin --> algin --> alien --> alder --> ender\n",
      "246864\n",
      "../data/rusty-2-5757.txt\n"
     ]
    },
    {
     "name": "stderr",
     "output_type": "stream",
     "text": [
      " 68%|██████▊   | 106/155 [00:20<00:30,  1.58it/s]"
     ]
    },
    {
     "name": "stdout",
     "output_type": "stream",
     "text": [
      "sink : Name:ender, Red:False\n",
      "Path Length = 4\n",
      "With Path: begin --> resin --> risen --> rider --> ender\n",
      "327342\n",
      "../data/ski-illustration.txt\n"
     ]
    },
    {
     "name": "stderr",
     "output_type": "stream",
     "text": [
      " 81%|████████▏ | 126/155 [00:21<00:03,  9.53it/s]"
     ]
    },
    {
     "name": "stdout",
     "output_type": "stream",
     "text": [
      "sink : Name:36, Red:False\n",
      "Path Length = 8\n",
      "With Path: 0 --> 1 --> 3 --> 6 --> 11 --> 16 --> 22 --> 29 --> 36\n",
      "49\n",
      "../data/ski-level10-1.txt\n",
      "sink : Name:78, Red:False\n",
      "-1\n",
      "107\n",
      "../data/ski-level10-2.txt\n",
      "sink : Name:77, Red:False\n",
      "-1\n",
      "98\n",
      "../data/ski-level10-3.txt\n",
      "sink : Name:77, Red:False\n",
      "-1\n",
      "104\n",
      "../data/ski-level20-1.txt\n",
      "sink : Name:253, Red:False\n",
      "-1\n",
      "345\n",
      "../data/ski-level20-2.txt\n",
      "sink : Name:253, Red:True\n",
      "-1\n",
      "337\n",
      "../data/ski-level20-3.txt\n",
      "sink : Name:253, Red:False\n",
      "-1\n",
      "353\n",
      "../data/ski-level3-1.txt\n",
      "sink : Name:15, Red:False\n",
      "Path Length = 5\n",
      "With Path: 0 --> 1 --> 4 --> 8 --> 12 --> 15\n",
      "21\n",
      "../data/ski-level3-2.txt\n",
      "sink : Name:14, Red:False\n",
      "Path Length = 5\n",
      "With Path: 0 --> 1 --> 4 --> 8 --> 13 --> 14\n",
      "18\n",
      "../data/ski-level3-3.txt\n",
      "sink : Name:15, Red:False\n",
      "Path Length = 5\n",
      "With Path: 0 --> 2 --> 5 --> 9 --> 14 --> 15\n",
      "16\n",
      "../data/ski-level5-1.txt\n",
      "sink : Name:28, Red:False\n",
      "-1\n",
      "34\n",
      "../data/ski-level5-2.txt\n",
      "sink : Name:27, Red:False\n",
      "-1\n",
      "32\n",
      "../data/ski-level5-3.txt\n",
      "sink : Name:27, Red:False\n",
      "Path Length = 7\n",
      "With Path: 0 --> 1 --> 3 --> 7 --> 11 --> 16 --> 22 --> 27\n",
      "30\n",
      "../data/smallworld-10-0.txt\n",
      "sink : Name:9_9, Red:False\n",
      "Path Length = 6\n",
      "With Path: 0_0 --> 5_2 --> 5_1 --> 6_1 --> 7_7 --> 7_8 --> 9_9\n",
      "482\n",
      "../data/smallworld-10-1.txt\n",
      "sink : Name:9_9, Red:False\n",
      "Path Length = 8\n",
      "With Path: 0_0 --> 1_0 --> 2_0 --> 3_1 --> 3_3 --> 9_6 --> 9_7 --> 9_8 --> 9_9\n",
      "482\n",
      "../data/smallworld-20-0.txt\n",
      "sink : Name:19_19, Red:False\n",
      "Path Length = 8\n",
      "With Path: 0_0 --> 0_13 --> 6_13 --> 5_13 --> 10_13 --> 10_12 --> 10_11 --> 18_19 --> 19_19\n",
      "2176\n",
      "../data/smallworld-20-1.txt\n",
      "sink : Name:19_19, Red:False\n",
      "Path Length = 14\n",
      "With Path: 0_0 --> 0_13 --> 2_11 --> 3_11 --> 3_12 --> 0_17 --> 1_17 --> 16_15 --> 17_15 --> 18_15 --> 18_16 --> 19_16 --> 19_17 --> 19_18 --> 19_19\n",
      "2176\n",
      "../data/smallworld-3-0.txt\n",
      "sink : Name:2_2, Red:False\n",
      "Path Length = 4\n",
      "With Path: 0_0 --> 0_1 --> 1_1 --> 2_1 --> 2_2\n",
      "32\n",
      "../data/smallworld-3-1.txt\n",
      "sink : Name:2_2, Red:True\n",
      "Path Length = 2\n",
      "With Path: 0_0 --> 1_2 --> 2_2\n",
      "32\n",
      "../data/smallworld-30-0.txt\n",
      "sink : Name:29_29, Red:False\n",
      "Path Length = 9\n",
      "With Path: 0_0 --> 4_2 --> 10_1 --> 10_2 --> 17_7 --> 16_7 --> 15_7 --> 29_27 --> 29_28 --> 29_29\n",
      "4944\n",
      "../data/smallworld-30-1.txt\n",
      "sink : Name:29_29, Red:False\n",
      "Path Length = 11\n",
      "With Path: 0_0 --> 4_2 --> 6_9 --> 18_4 --> 19_4 --> 25_4 --> 25_3 --> 24_7 --> 23_7 --> 23_6 --> 28_29 --> 29_29\n",
      "4944\n",
      "../data/smallworld-40-0.txt\n",
      "sink : Name:39_39, Red:False\n",
      "Path Length = 8\n",
      "With Path: 0_0 --> 5_3 --> 4_3 --> 24_27 --> 23_27 --> 22_27 --> 21_27 --> 38_39 --> 39_39\n",
      "8862\n",
      "../data/smallworld-40-1.txt\n",
      "sink : Name:39_39, Red:False\n",
      "Path Length = 13\n",
      "With Path: 0_0 --> 5_3 --> 4_3 --> 3_3 --> 3_2 --> 28_14 --> 28_15 --> 30_15 --> 29_16 --> 29_17 --> 28_18 --> 28_19 --> 39_38 --> 39_39\n",
      "8862\n",
      "../data/smallworld-50-0.txt\n"
     ]
    },
    {
     "name": "stderr",
     "output_type": "stream",
     "text": [
      " 85%|████████▌ | 132/155 [00:21<00:02,  9.69it/s]"
     ]
    },
    {
     "name": "stdout",
     "output_type": "stream",
     "text": [
      "sink : Name:49_49, Red:False\n",
      "Path Length = 3\n",
      "With Path: 0_0 --> 1_0 --> 2_0 --> 49_49\n",
      "13860\n",
      "../data/smallworld-50-1.txt\n",
      "sink : Name:49_49, Red:False\n",
      "-1\n",
      "13860\n",
      "../data/wall-n-1.txt\n",
      "sink : Name:0, Red:False\n",
      "Path Length = 1\n",
      "With Path: 7 --> 0\n",
      "16\n",
      "../data/wall-n-10.txt\n",
      "sink : Name:0, Red:False\n",
      "Path Length = 1\n",
      "With Path: 7 --> 0\n",
      "178\n",
      "../data/wall-n-100.txt\n",
      "sink : Name:0, Red:False\n",
      "Path Length = 1\n",
      "With Path: 7 --> 0\n",
      "1798\n",
      "../data/wall-n-1000.txt\n",
      "sink : Name:0, Red:False\n",
      "Path Length = 1\n",
      "With Path: 7 --> 0\n",
      "17998\n",
      "../data/wall-n-10000.txt\n"
     ]
    },
    {
     "name": "stderr",
     "output_type": "stream",
     "text": [
      " 88%|████████▊ | 137/155 [00:23<00:03,  5.33it/s]"
     ]
    },
    {
     "name": "stdout",
     "output_type": "stream",
     "text": [
      "sink : Name:0, Red:False\n",
      "Path Length = 1\n",
      "With Path: 7 --> 0\n",
      "179998\n",
      "../data/wall-n-2.txt\n",
      "sink : Name:0, Red:False\n",
      "Path Length = 1\n",
      "With Path: 7 --> 0\n",
      "34\n",
      "../data/wall-n-3.txt\n",
      "sink : Name:0, Red:False\n",
      "Path Length = 1\n",
      "With Path: 7 --> 0\n",
      "52\n",
      "../data/wall-n-4.txt\n",
      "sink : Name:0, Red:False\n",
      "Path Length = 1\n",
      "With Path: 7 --> 0\n",
      "70\n",
      "../data/wall-p-1.txt\n",
      "sink : Name:0, Red:False\n",
      "Path Length = 1\n",
      "With Path: 7 --> 0\n",
      "16\n",
      "../data/wall-p-10.txt\n",
      "sink : Name:0, Red:False\n",
      "Path Length = 1\n",
      "With Path: 7 --> 0\n",
      "142\n",
      "../data/wall-p-100.txt\n",
      "sink : Name:0, Red:False\n",
      "Path Length = 1\n",
      "With Path: 7 --> 0\n",
      "1402\n",
      "../data/wall-p-1000.txt\n"
     ]
    },
    {
     "name": "stderr",
     "output_type": "stream",
     "text": [
      " 92%|█████████▏| 143/155 [00:24<00:01,  7.13it/s]"
     ]
    },
    {
     "name": "stdout",
     "output_type": "stream",
     "text": [
      "sink : Name:0, Red:False\n",
      "Path Length = 1\n",
      "With Path: 7 --> 0\n",
      "14002\n",
      "../data/wall-p-10000.txt\n"
     ]
    },
    {
     "name": "stderr",
     "output_type": "stream",
     "text": [
      " 95%|█████████▍| 147/155 [00:25<00:01,  5.66it/s]"
     ]
    },
    {
     "name": "stdout",
     "output_type": "stream",
     "text": [
      "sink : Name:0, Red:False\n",
      "Path Length = 1\n",
      "With Path: 7 --> 0\n",
      "140002\n",
      "../data/wall-p-2.txt\n",
      "sink : Name:0, Red:False\n",
      "Path Length = 1\n",
      "With Path: 7 --> 0\n",
      "30\n",
      "../data/wall-p-3.txt\n",
      "sink : Name:0, Red:False\n",
      "Path Length = 1\n",
      "With Path: 7 --> 0\n",
      "44\n",
      "../data/wall-p-4.txt\n",
      "sink : Name:0, Red:False\n",
      "Path Length = 1\n",
      "With Path: 7 --> 0\n",
      "58\n",
      "../data/wall-z-1.txt\n",
      "sink : Name:0, Red:False\n",
      "Path Length = 1\n",
      "With Path: 7 --> 0\n",
      "16\n",
      "../data/wall-z-10.txt\n",
      "sink : Name:0, Red:False\n",
      "Path Length = 1\n",
      "With Path: 7 --> 0\n",
      "160\n",
      "../data/wall-z-100.txt\n",
      "sink : Name:0, Red:False\n",
      "Path Length = 1\n",
      "With Path: 7 --> 0\n",
      "1600\n",
      "../data/wall-z-1000.txt\n"
     ]
    },
    {
     "name": "stderr",
     "output_type": "stream",
     "text": [
      " 97%|█████████▋| 151/155 [00:25<00:00,  6.85it/s]"
     ]
    },
    {
     "name": "stdout",
     "output_type": "stream",
     "text": [
      "sink : Name:0, Red:False\n",
      "Path Length = 1\n",
      "With Path: 7 --> 0\n",
      "16000\n",
      "../data/wall-z-10000.txt\n"
     ]
    },
    {
     "name": "stderr",
     "output_type": "stream",
     "text": [
      "100%|██████████| 155/155 [00:27<00:00,  5.73it/s]"
     ]
    },
    {
     "name": "stdout",
     "output_type": "stream",
     "text": [
      "sink : Name:0, Red:False\n",
      "Path Length = 1\n",
      "With Path: 7 --> 0\n",
      "160000\n",
      "../data/wall-z-2.txt\n",
      "sink : Name:0, Red:False\n",
      "Path Length = 1\n",
      "With Path: 7 --> 0\n",
      "32\n",
      "../data/wall-z-3.txt\n",
      "sink : Name:0, Red:False\n",
      "Path Length = 1\n",
      "With Path: 7 --> 0\n",
      "48\n",
      "../data/wall-z-4.txt\n",
      "sink : Name:0, Red:False\n",
      "Path Length = 1\n",
      "With Path: 7 --> 0\n",
      "64\n"
     ]
    },
    {
     "name": "stderr",
     "output_type": "stream",
     "text": [
      "\n"
     ]
    }
   ],
   "source": [
    "### taking the input, check for graphs of size 3\n",
    "\n",
    "import warnings\n",
    "from tqdm import tqdm\n",
    "import os\n",
    "import networkx\n",
    "\n",
    "warnings.filterwarnings('ignore')\n",
    "os.environ['TF_CPP_MIN_LOG_LEVEL'] = '3'\n",
    "\n",
    "\n",
    "PATH = \"../data/\"\n",
    "\n",
    "files_list = os.listdir(PATH)\n",
    "\n",
    "###  count number of graphs in the folder\n",
    "count_graphs = 0\n",
    "\n",
    "for file in tqdm(files_list):\n",
    "    if file.endswith('txt'):\n",
    "        full_path = os.path.join(PATH + file)\n",
    "        print(full_path)\n",
    "        if os.path.isfile(full_path):\n",
    "            \n",
    "            with open (full_path, 'r') as f:\n",
    "                g = Graph()\n",
    "\n",
    "\n",
    "                n, m, r = map(int, f.readline().strip().split())\n",
    "                s, t = map(str, f.readline().strip().split())\n",
    "\n",
    "                for i in range(n):\n",
    "                    name = f.readline().strip().split(' ')\n",
    "                    \n",
    "                    #Red\n",
    "                    if len(name) > 1:\n",
    "                        if name[0] == s:\n",
    "                            g.addNode(i, name[0], red=True, source=True)\n",
    "                            g.source = g.getNode(name[0])\n",
    "                        elif name[0] == t:\n",
    "                            g.addNode(i, name[0], red=True, sink=True)\n",
    "                            g.sink = g.getNode(name[0])\n",
    "                        else:\n",
    "                            g.addNode(i, name[0], red=True)    \n",
    "                                \n",
    "                    #Black\n",
    "                    else:\n",
    "                        if name[0] == s:\n",
    "                            g.addNode(i, name[0], source=True)\n",
    "                            g.source = g.getNode(name[0])\n",
    "                        elif name[0] == t:\n",
    "                            g.addNode(i, name[0], sink=True)\n",
    "                            g.sink = g.getNode(name[0])\n",
    "                        else:\n",
    "                            g.addNode(i, name[0])   \n",
    "                    \n",
    "                \n",
    "                for j in range(m):\n",
    "                    start, directed, end = f.readline().strip().split(' ')\n",
    "                    \n",
    "                    if directed == '--':\n",
    "                        g.addEdge(start, end)\n",
    "                        g.addEdge(end, start)\n",
    "                        # 0_0 -- 0.1\n",
    "                    else:\n",
    "                        g.directed = True\n",
    "                        g.addEdge(start, end, directed=True)\n",
    "            \n",
    "                pathfinding_g = pathFinding(g)\n",
    "                paths = pathfinding_g.BFS()\n",
    "                if paths:\n",
    "                    path_length = len(paths) - 1  # N-1, the length of a simple path\n",
    "                    path_nodes = ' --> '.join([str(node) for node in paths])\n",
    "                    print(f'Path Length = {path_length}\\nWith Path: {path_nodes}')\n",
    "                else:\n",
    "                    print(-1)\n",
    "\n",
    "                        \n",
    "                #print(g.nrOfEdges)"
   ]
  },
  {
   "cell_type": "code",
   "execution_count": 10,
   "metadata": {},
   "outputs": [
    {
     "ename": "NameError",
     "evalue": "name 'g' is not defined",
     "output_type": "error",
     "traceback": [
      "\u001b[1;31m---------------------------------------------------------------------------\u001b[0m",
      "\u001b[1;31mNameError\u001b[0m                                 Traceback (most recent call last)",
      "\u001b[1;32mc:\\Users\\Veronii\\Desktop\\red_scare\\red-scare\\Code\\v1.ipynb Cell 8\u001b[0m line \u001b[0;36m1\n\u001b[1;32m----> <a href='vscode-notebook-cell:/c%3A/Users/Veronii/Desktop/red_scare/red-scare/Code/v1.ipynb#X10sZmlsZQ%3D%3D?line=0'>1</a>\u001b[0m \u001b[39mprint\u001b[39m(g)\n",
      "\u001b[1;31mNameError\u001b[0m: name 'g' is not defined"
     ]
    }
   ],
   "source": [
    "print(g)"
   ]
  },
  {
   "cell_type": "code",
   "execution_count": 161,
   "metadata": {},
   "outputs": [],
   "source": [
    "from collections import deque\n",
    "class pathFinding:\n",
    "    def __init__(self, G):\n",
    "        self.G = G\n",
    "        self.s = self.G.source\n",
    "        self.t = self.G.sink\n",
    "\n",
    "    \n",
    "    def BFS(self):\n",
    "        # Initialize a queue for BFS\n",
    "        queue = deque() # []\n",
    "        visited = set() # nodes visited ()\n",
    "        parent = {}\n",
    "\n",
    "        # Add the source node to the queue\n",
    "        queue.append(self.s) # queue = [s, ...]\n",
    "        visited.add(self.s.name) # node_object #### , mark the node as visited\n",
    "\n",
    "        while queue:\n",
    "            current_node = queue.popleft() # s\n",
    "            \n",
    "            # Check if we have reached the target (sink) node\n",
    "            if current_node == self.t: # if source == target, -> path = []\n",
    "                path = self.reconstructPath(parent, current_node.name)\n",
    "                return path\n",
    "            \n",
    "            if current_node.red and current_node != self.s and current_node != self.t: # if node is red, skip it\n",
    "                continue # skip red nodes\n",
    "\n",
    "            # Explore neighbors\n",
    "            for edge in self.G.network[current_node.name]: #{s:[n_1, n_2, n_3]}\n",
    "                # edge.start == current_node.name\n",
    "                # edge.end == n1.name, n2.name\n",
    "                neighbor = edge.end # edge : s = 0, t=1, directied = false\n",
    "                if neighbor not in visited:\n",
    "                    queue.append(self.G.getNode(neighbor))\n",
    "                    visited.add(neighbor) # name \n",
    "                    parent[neighbor] = current_node.name # {n1 : s}\n",
    "\n",
    "        # If we reach here, there is no path from source to sink\n",
    "        return None\n",
    "\n",
    "    def reconstructPath(self, parent, current_node):\n",
    "        path = [current_node] # node_t ojbect ###, \n",
    "        while current_node in parent:\n",
    "            current_node = parent[current_node]\n",
    "            path.insert(0, current_node)\n",
    "        return path"
   ]
  },
  {
   "cell_type": "code",
   "execution_count": 162,
   "metadata": {},
   "outputs": [
    {
     "name": "stdout",
     "output_type": "stream",
     "text": [
      "Path Length = 3\n",
      "With Path: 0 --> 1 --> 2 --> 3\n"
     ]
    }
   ],
   "source": [
    "pathfinding_g = pathFinding(g)\n",
    "paths = pathfinding_g.BFS()\n",
    "if paths:\n",
    "    path_length = len(paths) - 1  # N-1, the length of a simple path\n",
    "    path_nodes = ' --> '.join([str(node) for node in paths])\n",
    "    print(f'Path Length = {path_length}\\nWith Path: {path_nodes}')\n",
    "else:\n",
    "    print(-1)\n"
   ]
  },
  {
   "cell_type": "markdown",
   "metadata": {},
   "source": [
    "### Individual Graphs"
   ]
  },
  {
   "cell_type": "markdown",
   "metadata": {},
   "source": [
    "### WORD GRAPHS"
   ]
  },
  {
   "cell_type": "code",
   "execution_count": 146,
   "metadata": {},
   "outputs": [
    {
     "name": "stdout",
     "output_type": "stream",
     "text": [
      "0\n",
      "1\n",
      "2\n",
      "3\n",
      "4\n",
      "6\n",
      "7\n",
      "8\n",
      "9\n"
     ]
    }
   ],
   "source": [
    "for i in range(10):\n",
    "    \n",
    "    if i == 5:\n",
    "        continue\n",
    "    print(i)"
   ]
  },
  {
   "cell_type": "code",
   "execution_count": null,
   "metadata": {},
   "outputs": [],
   "source": []
  }
 ],
 "metadata": {
  "kernelspec": {
   "display_name": "CBC",
   "language": "python",
   "name": "python3"
  },
  "language_info": {
   "codemirror_mode": {
    "name": "ipython",
    "version": 3
   },
   "file_extension": ".py",
   "mimetype": "text/x-python",
   "name": "python",
   "nbconvert_exporter": "python",
   "pygments_lexer": "ipython3",
   "version": "3.10.11"
  }
 },
 "nbformat": 4,
 "nbformat_minor": 2
}
